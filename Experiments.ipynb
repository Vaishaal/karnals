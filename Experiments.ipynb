{
 "cells": [
  {
   "cell_type": "code",
   "execution_count": 30,
   "metadata": {
    "collapsed": false
   },
   "outputs": [
    {
     "name": "stdout",
     "output_type": "stream",
     "text": [
      "Populating the interactive namespace from numpy and matplotlib\n"
     ]
    }
   ],
   "source": [
    "%pylab inline\n",
    "from opt import trainAndEvaluatePrimalModel\n",
    "import sklearn.metrics as metrics\n",
    "import kernels\n",
    "from importlib import reload\n",
    "import theano.sandbox.cuda as cuda\n",
    "\n",
    "import kernels\n",
    "reload(kernels)\n",
    "from kernels import *\n",
    "from utils import *\n",
    "import theano\n",
    "\n",
    "\n",
    "from theano import function, config, shared, sandbox\n",
    "import theano.misc.pycuda_init\n",
    "import theano.tensor as T\n",
    "from theano import gpuarray\n",
    "from theano.tensor.nnet import conv2d\n",
    "from theano.tensor.signal.pool import pool_2d"
   ]
  },
  {
   "cell_type": "code",
   "execution_count": 2,
   "metadata": {
    "collapsed": true
   },
   "outputs": [],
   "source": [
    "DATAPATH = '/data/vaishaal/endive-exp/EGR1_withNegatives/'"
   ]
  },
  {
   "cell_type": "code",
   "execution_count": 3,
   "metadata": {
    "collapsed": false
   },
   "outputs": [],
   "source": [
    "XSeqTrain, labelsTrain = loadSeqFromText(DATAPATH + \"EGR1_H1-hESC_Egr-1_HudsonAlpha_AC.seq\", delim=' ')"
   ]
  },
  {
   "cell_type": "code",
   "execution_count": 4,
   "metadata": {
    "collapsed": false
   },
   "outputs": [],
   "source": [
    "XSeqTest, labelsTest = loadSeqFromText(DATAPATH + \"EGR1_GM12878_Egr-1_HudsonAlpha_B.seq\", delim='\\t')"
   ]
  },
  {
   "cell_type": "code",
   "execution_count": 5,
   "metadata": {
    "collapsed": false
   },
   "outputs": [],
   "source": [
    "XTrain = convertSeqToMatrix(XSeqTrain)\n",
    "XTest = convertSeqToMatrix(XSeqTest)"
   ]
  },
  {
   "cell_type": "code",
   "execution_count": 23,
   "metadata": {
    "collapsed": false
   },
   "outputs": [],
   "source": [
    "D = 8192 \n",
    "W = np.random.randn(D,8*4) * 1.0\n",
    "b = np.random.uniform(0,1,size=D)"
   ]
  },
  {
   "cell_type": "code",
   "execution_count": null,
   "metadata": {
    "collapsed": false
   },
   "outputs": [],
   "source": [
    "%time XLiftTrain_cpu = generateConvFeatures(XTrain, W, offset=b, gpu=False)\n",
    "%time XLiftTest_cpu = generateConvFeatures(XTest, W, offset=b, gpu=False)"
   ]
  },
  {
   "cell_type": "code",
   "execution_count": 31,
   "metadata": {
    "collapsed": false
   },
   "outputs": [
    {
     "name": "stdout",
     "output_type": "stream",
     "text": [
      "GPU IMPLEMENTATION STILL BUGGY\n",
      "Feature Batch  0\n",
      "Data Batch  0\n",
      "(1024, 2048, 1, 2)\n",
      "Data Batch  1\n",
      "(1024, 2048, 1, 2)\n",
      "Data Batch  2\n",
      "(1024, 2048, 1, 2)\n",
      "Data Batch  3\n",
      "(1024, 2048, 1, 2)\n",
      "Data Batch  4\n",
      "(1024, 2048, 1, 2)\n",
      "Data Batch  5\n",
      "(1024, 2048, 1, 2)\n",
      "Data Batch  6\n",
      "(1024, 2048, 1, 2)\n",
      "Data Batch  7\n",
      "(1024, 2048, 1, 2)\n",
      "Data Batch  8\n",
      "(1024, 2048, 1, 2)\n",
      "Data Batch  9\n",
      "(1024, 2048, 1, 2)\n",
      "Data Batch  10\n",
      "(1024, 2048, 1, 2)\n",
      "Data Batch  11\n",
      "(1024, 2048, 1, 2)\n",
      "Data Batch  12\n",
      "(1024, 2048, 1, 2)\n",
      "Data Batch  13\n",
      "(1024, 2048, 1, 2)\n",
      "Data Batch  14\n",
      "(1024, 2048, 1, 2)\n",
      "Data Batch  15\n",
      "(1024, 2048, 1, 2)\n",
      "Data Batch  16\n",
      "(102, 2048, 1, 2)\n",
      "Feature Batch  1\n",
      "Data Batch  0\n",
      "(1024, 2048, 1, 2)\n",
      "Data Batch  1\n",
      "(1024, 2048, 1, 2)\n",
      "Data Batch  2\n",
      "(1024, 2048, 1, 2)\n",
      "Data Batch  3\n",
      "(1024, 2048, 1, 2)\n",
      "Data Batch  4\n",
      "(1024, 2048, 1, 2)\n",
      "Data Batch  5\n",
      "(1024, 2048, 1, 2)\n",
      "Data Batch  6\n",
      "(1024, 2048, 1, 2)\n",
      "Data Batch  7\n",
      "(1024, 2048, 1, 2)\n",
      "Data Batch  8\n",
      "(1024, 2048, 1, 2)\n",
      "Data Batch  9\n",
      "(1024, 2048, 1, 2)\n",
      "Data Batch  10\n",
      "(1024, 2048, 1, 2)\n",
      "Data Batch  11\n",
      "(1024, 2048, 1, 2)\n",
      "Data Batch  12\n",
      "(1024, 2048, 1, 2)\n",
      "Data Batch  13\n",
      "(1024, 2048, 1, 2)\n",
      "Data Batch  14\n",
      "(1024, 2048, 1, 2)\n",
      "Data Batch  15\n",
      "(1024, 2048, 1, 2)\n",
      "Data Batch  16\n",
      "(102, 2048, 1, 2)\n",
      "Feature Batch  2\n",
      "Data Batch  0\n",
      "(1024, 2048, 1, 2)\n",
      "Data Batch  1\n",
      "(1024, 2048, 1, 2)\n",
      "Data Batch  2\n",
      "(1024, 2048, 1, 2)\n",
      "Data Batch  3\n",
      "(1024, 2048, 1, 2)\n",
      "Data Batch  4\n",
      "(1024, 2048, 1, 2)\n",
      "Data Batch  5\n",
      "(1024, 2048, 1, 2)\n",
      "Data Batch  6\n",
      "(1024, 2048, 1, 2)\n",
      "Data Batch  7\n",
      "(1024, 2048, 1, 2)\n",
      "Data Batch  8\n",
      "(1024, 2048, 1, 2)\n",
      "Data Batch  9\n",
      "(1024, 2048, 1, 2)\n",
      "Data Batch  10\n",
      "(1024, 2048, 1, 2)\n",
      "Data Batch  11\n",
      "(1024, 2048, 1, 2)\n",
      "Data Batch  12\n",
      "(1024, 2048, 1, 2)\n",
      "Data Batch  13\n",
      "(1024, 2048, 1, 2)\n",
      "Data Batch  14\n",
      "(1024, 2048, 1, 2)\n",
      "Data Batch  15\n",
      "(1024, 2048, 1, 2)\n",
      "Data Batch  16\n",
      "(102, 2048, 1, 2)\n",
      "Feature Batch  3\n",
      "Data Batch  0\n",
      "(1024, 2048, 1, 2)\n",
      "Data Batch  1\n",
      "(1024, 2048, 1, 2)\n",
      "Data Batch  2\n",
      "(1024, 2048, 1, 2)\n",
      "Data Batch  3\n",
      "(1024, 2048, 1, 2)\n",
      "Data Batch  4\n",
      "(1024, 2048, 1, 2)\n",
      "Data Batch  5\n",
      "(1024, 2048, 1, 2)\n",
      "Data Batch  6\n",
      "(1024, 2048, 1, 2)\n",
      "Data Batch  7\n",
      "(1024, 2048, 1, 2)\n",
      "Data Batch  8\n",
      "(1024, 2048, 1, 2)\n",
      "Data Batch  9\n",
      "(1024, 2048, 1, 2)\n",
      "Data Batch  10\n",
      "(1024, 2048, 1, 2)\n",
      "Data Batch  11\n",
      "(1024, 2048, 1, 2)\n",
      "Data Batch  12\n",
      "(1024, 2048, 1, 2)\n",
      "Data Batch  13\n",
      "(1024, 2048, 1, 2)\n",
      "Data Batch  14\n",
      "(1024, 2048, 1, 2)\n",
      "Data Batch  15\n",
      "(1024, 2048, 1, 2)\n",
      "Data Batch  16\n",
      "(102, 2048, 1, 2)\n",
      "CPU times: user 1min 49s, sys: 28.8 s, total: 2min 18s\n",
      "Wall time: 2min 28s\n",
      "GPU IMPLEMENTATION STILL BUGGY\n",
      "Feature Batch  0\n",
      "Data Batch  0\n",
      "(999, 2048, 1, 2)\n",
      "Feature Batch  1\n",
      "Data Batch  0\n",
      "(999, 2048, 1, 2)\n",
      "Feature Batch  2\n",
      "Data Batch  0\n",
      "(999, 2048, 1, 2)\n",
      "Feature Batch  3\n",
      "Data Batch  0\n",
      "(999, 2048, 1, 2)\n",
      "CPU times: user 5.98 s, sys: 1.72 s, total: 7.7 s\n",
      "Wall time: 8.76 s\n"
     ]
    }
   ],
   "source": [
    "%time XLiftTrain_gpu = generateConvFeatures(XTrain, W, batch_size=1024, num_feature_batches=4, gpu=True)\n",
    "%time XLiftTest_gpu = generateConvFeatures(XTest, W, offset=b, gpu=True)"
   ]
  },
  {
   "cell_type": "code",
   "execution_count": 22,
   "metadata": {
    "collapsed": false
   },
   "outputs": [
    {
     "data": {
      "text/plain": [
       "(16486, 4096)"
      ]
     },
     "execution_count": 22,
     "metadata": {},
     "output_type": "execute_result"
    }
   ],
   "source": [
    "XLiftTrain_gpu.shape"
   ]
  },
  {
   "cell_type": "code",
   "execution_count": 78,
   "metadata": {
    "collapsed": false
   },
   "outputs": [
    {
     "data": {
      "text/plain": [
       "array([[ -5.30992985],\n",
       "       [-15.66732216],\n",
       "       [ -2.41803646],\n",
       "       ..., \n",
       "       [ -7.97012615],\n",
       "       [ -1.52358055],\n",
       "       [-16.94457054]])"
      ]
     },
     "execution_count": 78,
     "metadata": {},
     "output_type": "execute_result"
    }
   ],
   "source": [
    "XLiftTrain_gpu"
   ]
  },
  {
   "cell_type": "code",
   "execution_count": 35,
   "metadata": {
    "collapsed": false
   },
   "outputs": [
    {
     "name": "stdout",
     "output_type": "stream",
     "text": [
      "X SHAPE  (16486, 404)\n",
      "Computing XTX\n",
      "Done Computing XTX\n",
      "Train acc 0.567087225525\n",
      "Test acc 0.611611611612\n",
      "Train ROC  0.597968816865\n",
      "Test ROC  0.655462925852\n"
     ]
    },
    {
     "data": {
      "text/plain": [
       "<matplotlib.legend.Legend at 0x7fd6151a5550>"
      ]
     },
     "execution_count": 35,
     "metadata": {},
     "output_type": "execute_result"
    },
    {
     "data": {
      "image/png": "[encoded data removed]",
      "text/plain": [
       "<matplotlib.figure.Figure at 0x7fc506281630>"
      ]
     },
     "metadata": {},
     "output_type": "display_data"
    }
   ],
   "source": [
    "train_roc, test_roc = trainAndEvaluatePrimalModel(XTrain, XTest, labelsTrain, labelsTest)\n",
    "train = plt.plot(train_roc[0], train_roc[1], label=\"train\")\n",
    "test = plt.plot(test_roc[0], test_roc[1], label=\"test\")\n",
    "print(\"Train ROC \", metrics.auc(train_roc[0], train_roc[1]))\n",
    "print(\"Test ROC \", metrics.auc(test_roc[0], test_roc[1]))\n",
    "plt.legend(handles=[train[0], test[0]])"
   ]
  },
  {
   "cell_type": "code",
   "execution_count": 107,
   "metadata": {
    "collapsed": false
   },
   "outputs": [
    {
     "name": "stdout",
     "output_type": "stream",
     "text": [
      "X SHAPE  (16486, 1)\n",
      "Computing XTX\n",
      "Done Computing XTX\n",
      "Train acc 0.499878684945\n",
      "Test acc 0.503503503504\n",
      "Train ROC  0.524051692076\n",
      "Test ROC  0.555350701403\n"
     ]
    },
    {
     "data": {
      "text/plain": [
       "<matplotlib.legend.Legend at 0x7f574e586eb8>"
      ]
     },
     "execution_count": 107,
     "metadata": {},
     "output_type": "execute_result"
    },
    {
     "data": {
      "image/png": "[encoded data removed]",
      "text/plain": [
       "<matplotlib.figure.Figure at 0x7f5752e42080>"
      ]
     },
     "metadata": {},
     "output_type": "display_data"
    }
   ],
   "source": [
    "train_roc, test_roc = trainAndEvaluatePrimalModel(XLiftTrain_cpu, XLiftTest_cpu,labelsTrain,labelsTest)\n",
    "train = plt.plot(train_roc[0], train_roc[1], label=\"train\")\n",
    "test = plt.plot(test_roc[0], test_roc[1], label=\"test\")\n",
    "print (\"Train ROC \", metrics.auc(train_roc[0], train_roc[1]))\n",
    "print (\"Test ROC \", metrics.auc(test_roc[0], test_roc[1]))\n",
    "plt.legend(handles=[train[0], test[0]])"
   ]
  },
  {
   "cell_type": "code",
   "execution_count": 35,
   "metadata": {
    "collapsed": false
   },
   "outputs": [
    {
     "name": "stdout",
     "output_type": "stream",
     "text": [
      "X SHAPE  (16486, 16384)\n",
      "Computing XTX\n",
      "Done Computing XTX\n",
      "Train acc 0.976161591654\n",
      "Test acc 0.857857857858\n",
      "Train ROC  0.997809080715\n",
      "Test ROC  0.930541082164\n"
     ]
    },
    {
     "data": {
      "text/plain": [
       "<matplotlib.legend.Legend at 0x7f3834b48dd8>"
      ]
     },
     "execution_count": 35,
     "metadata": {},
     "output_type": "execute_result"
    },
    {
     "data": {
      "image/png": "[encoded data removed]",
      "text/plain": [
       "<matplotlib.figure.Figure at 0x7f383c079ba8>"
      ]
     },
     "metadata": {},
     "output_type": "display_data"
    }
   ],
   "source": [
    "train_roc, test_roc = trainAndEvaluatePrimalModel(XLiftTrain_gpu, XLiftTest_gpu,labelsTrain,labelsTest, reg=100000)\n",
    "train = plt.plot(train_roc[0], train_roc[1], label=\"train\")\n",
    "test = plt.plot(test_roc[0], test_roc[1], label=\"test\")\n",
    "print (\"Train ROC \", metrics.auc(train_roc[0], train_roc[1]))\n",
    "print (\"Test ROC \", metrics.auc(test_roc[0], test_roc[1]))\n",
    "plt.legend(handles=[train[0], test[0]])"
   ]
  },
  {
   "cell_type": "code",
   "execution_count": 109,
   "metadata": {
    "collapsed": false
   },
   "outputs": [],
   "source": []
  },
  {
   "cell_type": "code",
   "execution_count": 118,
   "metadata": {
    "collapsed": false
   },
   "outputs": [
    {
     "name": "stderr",
     "output_type": "stream",
     "text": [
      "ERROR (theano.gof.opt): Optimization failure due to: constant_folding\n",
      "ERROR (theano.gof.opt): node: PyCUDACos(CudaNdarrayConstant{4.0})\n",
      "ERROR (theano.gof.opt): TRACEBACK:\n",
      "ERROR (theano.gof.opt): Traceback (most recent call last):\n",
      "  File \"/data/vaishaal/anaconda3/lib/python3.5/site-packages/theano/gof/opt.py\", line 1772, in process_node\n",
      "    replacements = lopt.transform(node)\n",
      "  File \"/data/vaishaal/anaconda3/lib/python3.5/site-packages/theano/tensor/opt.py\", line 5825, in constant_folding\n",
      "    no_recycling=[])\n",
      "TypeError: make_thunk() got an unexpected keyword argument 'no_recycling'\n",
      "\n",
      "ERROR (theano.gof.opt): Optimization failure due to: constant_folding\n",
      "ERROR (theano.gof.opt): node: PyCUDACos(CudaNdarrayConstant{4.0})\n",
      "ERROR (theano.gof.opt): TRACEBACK:\n",
      "ERROR (theano.gof.opt): Traceback (most recent call last):\n",
      "  File \"/data/vaishaal/anaconda3/lib/python3.5/site-packages/theano/gof/opt.py\", line 1772, in process_node\n",
      "    replacements = lopt.transform(node)\n",
      "  File \"/data/vaishaal/anaconda3/lib/python3.5/site-packages/theano/tensor/opt.py\", line 5825, in constant_folding\n",
      "    no_recycling=[])\n",
      "TypeError: make_thunk() got an unexpected keyword argument 'no_recycling'\n",
      "\n",
      "ERROR (theano.gof.opt): Optimization failure due to: constant_folding\n",
      "ERROR (theano.gof.opt): node: PyCUDACos(CudaNdarrayConstant{4.0})\n",
      "ERROR (theano.gof.opt): TRACEBACK:\n",
      "ERROR (theano.gof.opt): Traceback (most recent call last):\n",
      "  File \"/data/vaishaal/anaconda3/lib/python3.5/site-packages/theano/gof/opt.py\", line 1772, in process_node\n",
      "    replacements = lopt.transform(node)\n",
      "  File \"/data/vaishaal/anaconda3/lib/python3.5/site-packages/theano/tensor/opt.py\", line 5825, in constant_folding\n",
      "    no_recycling=[])\n",
      "TypeError: make_thunk() got an unexpected keyword argument 'no_recycling'\n",
      "\n",
      "ERROR (theano.gof.opt): Optimization failure due to: constant_folding\n",
      "ERROR (theano.gof.opt): node: PyCUDACos(CudaNdarrayConstant{4.0})\n",
      "ERROR (theano.gof.opt): TRACEBACK:\n",
      "ERROR (theano.gof.opt): Traceback (most recent call last):\n",
      "  File \"/data/vaishaal/anaconda3/lib/python3.5/site-packages/theano/gof/opt.py\", line 1772, in process_node\n",
      "    replacements = lopt.transform(node)\n",
      "  File \"/data/vaishaal/anaconda3/lib/python3.5/site-packages/theano/tensor/opt.py\", line 5825, in constant_folding\n",
      "    no_recycling=[])\n",
      "TypeError: make_thunk() got an unexpected keyword argument 'no_recycling'\n",
      "\n",
      "ERROR (theano.gof.opt): Optimization failure due to: constant_folding\n",
      "ERROR (theano.gof.opt): node: PyCUDACos(CudaNdarrayConstant{4.0})\n",
      "ERROR (theano.gof.opt): TRACEBACK:\n",
      "ERROR (theano.gof.opt): Traceback (most recent call last):\n",
      "  File \"/data/vaishaal/anaconda3/lib/python3.5/site-packages/theano/gof/opt.py\", line 1772, in process_node\n",
      "    replacements = lopt.transform(node)\n",
      "  File \"/data/vaishaal/anaconda3/lib/python3.5/site-packages/theano/tensor/opt.py\", line 5825, in constant_folding\n",
      "    no_recycling=[])\n",
      "TypeError: make_thunk() got an unexpected keyword argument 'no_recycling'\n",
      "\n",
      "ERROR (theano.gof.opt): Optimization failure due to: constant_folding\n",
      "ERROR (theano.gof.opt): node: PyCUDACos(CudaNdarrayConstant{4.0})\n",
      "ERROR (theano.gof.opt): TRACEBACK:\n",
      "ERROR (theano.gof.opt): Traceback (most recent call last):\n",
      "  File \"/data/vaishaal/anaconda3/lib/python3.5/site-packages/theano/gof/opt.py\", line 1772, in process_node\n",
      "    replacements = lopt.transform(node)\n",
      "  File \"/data/vaishaal/anaconda3/lib/python3.5/site-packages/theano/tensor/opt.py\", line 5825, in constant_folding\n",
      "    no_recycling=[])\n",
      "TypeError: make_thunk() got an unexpected keyword argument 'no_recycling'\n",
      "\n",
      "ERROR (theano.gof.opt): Optimization failure due to: constant_folding\n",
      "ERROR (theano.gof.opt): node: PyCUDACos(CudaNdarrayConstant{4.0})\n",
      "ERROR (theano.gof.opt): TRACEBACK:\n",
      "ERROR (theano.gof.opt): Traceback (most recent call last):\n",
      "  File \"/data/vaishaal/anaconda3/lib/python3.5/site-packages/theano/gof/opt.py\", line 1772, in process_node\n",
      "    replacements = lopt.transform(node)\n",
      "  File \"/data/vaishaal/anaconda3/lib/python3.5/site-packages/theano/tensor/opt.py\", line 5825, in constant_folding\n",
      "    no_recycling=[])\n",
      "TypeError: make_thunk() got an unexpected keyword argument 'no_recycling'\n",
      "\n",
      "ERROR (theano.gof.opt): Optimization failure due to: constant_folding\n",
      "ERROR (theano.gof.opt): node: PyCUDACos(CudaNdarrayConstant{4.0})\n",
      "ERROR (theano.gof.opt): TRACEBACK:\n",
      "ERROR (theano.gof.opt): Traceback (most recent call last):\n",
      "  File \"/data/vaishaal/anaconda3/lib/python3.5/site-packages/theano/gof/opt.py\", line 1772, in process_node\n",
      "    replacements = lopt.transform(node)\n",
      "  File \"/data/vaishaal/anaconda3/lib/python3.5/site-packages/theano/tensor/opt.py\", line 5825, in constant_folding\n",
      "    no_recycling=[])\n",
      "TypeError: make_thunk() got an unexpected keyword argument 'no_recycling'\n",
      "\n",
      "ERROR (theano.gof.opt): Optimization failure due to: constant_folding\n",
      "ERROR (theano.gof.opt): node: PyCUDACos(CudaNdarrayConstant{4.0})\n",
      "ERROR (theano.gof.opt): TRACEBACK:\n",
      "ERROR (theano.gof.opt): Traceback (most recent call last):\n",
      "  File \"/data/vaishaal/anaconda3/lib/python3.5/site-packages/theano/gof/opt.py\", line 1772, in process_node\n",
      "    replacements = lopt.transform(node)\n",
      "  File \"/data/vaishaal/anaconda3/lib/python3.5/site-packages/theano/tensor/opt.py\", line 5825, in constant_folding\n",
      "    no_recycling=[])\n",
      "TypeError: make_thunk() got an unexpected keyword argument 'no_recycling'\n",
      "\n"
     ]
    },
    {
     "ename": "NameError",
     "evalue": "('The following error happened while compiling the node', PyCUDACos(CudaNdarrayConstant{4.0}), '\\n', \"name 'SourceModule' is not defined\")",
     "output_type": "error",
     "traceback": [
      "\u001b[1;31m---------------------------------------------------------------------------\u001b[0m",
      "\u001b[1;31mNameError\u001b[0m                                 Traceback (most recent call last)",
      "\u001b[1;32m<ipython-input-118-5e9d281c77a5>\u001b[0m in \u001b[0;36m<module>\u001b[1;34m()\u001b[0m\n\u001b[1;32m----> 1\u001b[1;33m \u001b[0mPyCUDACos\u001b[0m\u001b[1;33m(\u001b[0m\u001b[1;33m)\u001b[0m\u001b[1;33m(\u001b[0m\u001b[1;36m4.0\u001b[0m\u001b[1;33m)\u001b[0m\u001b[1;33m.\u001b[0m\u001b[0meval\u001b[0m\u001b[1;33m(\u001b[0m\u001b[1;33m)\u001b[0m\u001b[1;33m\u001b[0m\u001b[0m\n\u001b[0m",
      "\u001b[1;32m/data/vaishaal/anaconda3/lib/python3.5/site-packages/theano/gof/graph.py\u001b[0m in \u001b[0;36meval\u001b[1;34m(self, inputs_to_values)\u001b[0m\n\u001b[0;32m    518\u001b[0m         \u001b[0minputs\u001b[0m \u001b[1;33m=\u001b[0m \u001b[0mtuple\u001b[0m\u001b[1;33m(\u001b[0m\u001b[0msorted\u001b[0m\u001b[1;33m(\u001b[0m\u001b[0minputs_to_values\u001b[0m\u001b[1;33m.\u001b[0m\u001b[0mkeys\u001b[0m\u001b[1;33m(\u001b[0m\u001b[1;33m)\u001b[0m\u001b[1;33m,\u001b[0m \u001b[0mkey\u001b[0m\u001b[1;33m=\u001b[0m\u001b[0mid\u001b[0m\u001b[1;33m)\u001b[0m\u001b[1;33m)\u001b[0m\u001b[1;33m\u001b[0m\u001b[0m\n\u001b[0;32m    519\u001b[0m         \u001b[1;32mif\u001b[0m \u001b[0minputs\u001b[0m \u001b[1;32mnot\u001b[0m \u001b[1;32min\u001b[0m \u001b[0mself\u001b[0m\u001b[1;33m.\u001b[0m\u001b[0m_fn_cache\u001b[0m\u001b[1;33m:\u001b[0m\u001b[1;33m\u001b[0m\u001b[0m\n\u001b[1;32m--> 520\u001b[1;33m             \u001b[0mself\u001b[0m\u001b[1;33m.\u001b[0m\u001b[0m_fn_cache\u001b[0m\u001b[1;33m[\u001b[0m\u001b[0minputs\u001b[0m\u001b[1;33m]\u001b[0m \u001b[1;33m=\u001b[0m \u001b[0mtheano\u001b[0m\u001b[1;33m.\u001b[0m\u001b[0mfunction\u001b[0m\u001b[1;33m(\u001b[0m\u001b[0minputs\u001b[0m\u001b[1;33m,\u001b[0m \u001b[0mself\u001b[0m\u001b[1;33m)\u001b[0m\u001b[1;33m\u001b[0m\u001b[0m\n\u001b[0m\u001b[0;32m    521\u001b[0m         \u001b[0margs\u001b[0m \u001b[1;33m=\u001b[0m \u001b[1;33m[\u001b[0m\u001b[0minputs_to_values\u001b[0m\u001b[1;33m[\u001b[0m\u001b[0mparam\u001b[0m\u001b[1;33m]\u001b[0m \u001b[1;32mfor\u001b[0m \u001b[0mparam\u001b[0m \u001b[1;32min\u001b[0m \u001b[0minputs\u001b[0m\u001b[1;33m]\u001b[0m\u001b[1;33m\u001b[0m\u001b[0m\n\u001b[0;32m    522\u001b[0m \u001b[1;33m\u001b[0m\u001b[0m\n",
      "\u001b[1;32m/data/vaishaal/anaconda3/lib/python3.5/site-packages/theano/compile/function.py\u001b[0m in \u001b[0;36mfunction\u001b[1;34m(inputs, outputs, mode, updates, givens, no_default_updates, accept_inplace, name, rebuild_strict, allow_input_downcast, profile, on_unused_input)\u001b[0m\n\u001b[0;32m    318\u001b[0m                    \u001b[0mon_unused_input\u001b[0m\u001b[1;33m=\u001b[0m\u001b[0mon_unused_input\u001b[0m\u001b[1;33m,\u001b[0m\u001b[1;33m\u001b[0m\u001b[0m\n\u001b[0;32m    319\u001b[0m                    \u001b[0mprofile\u001b[0m\u001b[1;33m=\u001b[0m\u001b[0mprofile\u001b[0m\u001b[1;33m,\u001b[0m\u001b[1;33m\u001b[0m\u001b[0m\n\u001b[1;32m--> 320\u001b[1;33m                    output_keys=output_keys)\n\u001b[0m\u001b[0;32m    321\u001b[0m     \u001b[1;31m# We need to add the flag check_aliased inputs if we have any mutable or\u001b[0m\u001b[1;33m\u001b[0m\u001b[1;33m\u001b[0m\u001b[0m\n\u001b[0;32m    322\u001b[0m     \u001b[1;31m# borrowed used defined inputs\u001b[0m\u001b[1;33m\u001b[0m\u001b[1;33m\u001b[0m\u001b[0m\n",
      "\u001b[1;32m/data/vaishaal/anaconda3/lib/python3.5/site-packages/theano/compile/pfunc.py\u001b[0m in \u001b[0;36mpfunc\u001b[1;34m(params, outputs, mode, updates, givens, no_default_updates, accept_inplace, name, rebuild_strict, allow_input_downcast, profile, on_unused_input, output_keys)\u001b[0m\n\u001b[0;32m    477\u001b[0m                          \u001b[0maccept_inplace\u001b[0m\u001b[1;33m=\u001b[0m\u001b[0maccept_inplace\u001b[0m\u001b[1;33m,\u001b[0m \u001b[0mname\u001b[0m\u001b[1;33m=\u001b[0m\u001b[0mname\u001b[0m\u001b[1;33m,\u001b[0m\u001b[1;33m\u001b[0m\u001b[0m\n\u001b[0;32m    478\u001b[0m                          \u001b[0mprofile\u001b[0m\u001b[1;33m=\u001b[0m\u001b[0mprofile\u001b[0m\u001b[1;33m,\u001b[0m \u001b[0mon_unused_input\u001b[0m\u001b[1;33m=\u001b[0m\u001b[0mon_unused_input\u001b[0m\u001b[1;33m,\u001b[0m\u001b[1;33m\u001b[0m\u001b[0m\n\u001b[1;32m--> 479\u001b[1;33m                          output_keys=output_keys)\n\u001b[0m\u001b[0;32m    480\u001b[0m \u001b[1;33m\u001b[0m\u001b[0m\n\u001b[0;32m    481\u001b[0m \u001b[1;33m\u001b[0m\u001b[0m\n",
      "\u001b[1;32m/data/vaishaal/anaconda3/lib/python3.5/site-packages/theano/compile/function_module.py\u001b[0m in \u001b[0;36morig_function\u001b[1;34m(inputs, outputs, mode, accept_inplace, name, profile, on_unused_input, output_keys)\u001b[0m\n\u001b[0;32m   1775\u001b[0m                    \u001b[0mon_unused_input\u001b[0m\u001b[1;33m=\u001b[0m\u001b[0mon_unused_input\u001b[0m\u001b[1;33m,\u001b[0m\u001b[1;33m\u001b[0m\u001b[0m\n\u001b[0;32m   1776\u001b[0m                    \u001b[0moutput_keys\u001b[0m\u001b[1;33m=\u001b[0m\u001b[0moutput_keys\u001b[0m\u001b[1;33m)\u001b[0m\u001b[1;33m.\u001b[0m\u001b[0mcreate\u001b[0m\u001b[1;33m(\u001b[0m\u001b[1;33m\u001b[0m\u001b[0m\n\u001b[1;32m-> 1777\u001b[1;33m             defaults)\n\u001b[0m\u001b[0;32m   1778\u001b[0m \u001b[1;33m\u001b[0m\u001b[0m\n\u001b[0;32m   1779\u001b[0m     \u001b[0mt2\u001b[0m \u001b[1;33m=\u001b[0m \u001b[0mtime\u001b[0m\u001b[1;33m.\u001b[0m\u001b[0mtime\u001b[0m\u001b[1;33m(\u001b[0m\u001b[1;33m)\u001b[0m\u001b[1;33m\u001b[0m\u001b[0m\n",
      "\u001b[1;32m/data/vaishaal/anaconda3/lib/python3.5/site-packages/theano/compile/function_module.py\u001b[0m in \u001b[0;36mcreate\u001b[1;34m(self, input_storage, trustme, storage_map)\u001b[0m\n\u001b[0;32m   1639\u001b[0m             \u001b[0mtheano\u001b[0m\u001b[1;33m.\u001b[0m\u001b[0mconfig\u001b[0m\u001b[1;33m.\u001b[0m\u001b[0mtraceback\u001b[0m\u001b[1;33m.\u001b[0m\u001b[0mlimit\u001b[0m \u001b[1;33m=\u001b[0m \u001b[1;36m0\u001b[0m\u001b[1;33m\u001b[0m\u001b[0m\n\u001b[0;32m   1640\u001b[0m             _fn, _i, _o = self.linker.make_thunk(\n\u001b[1;32m-> 1641\u001b[1;33m                 input_storage=input_storage_lists, storage_map=storage_map)\n\u001b[0m\u001b[0;32m   1642\u001b[0m         \u001b[1;32mfinally\u001b[0m\u001b[1;33m:\u001b[0m\u001b[1;33m\u001b[0m\u001b[0m\n\u001b[0;32m   1643\u001b[0m             \u001b[0mtheano\u001b[0m\u001b[1;33m.\u001b[0m\u001b[0mconfig\u001b[0m\u001b[1;33m.\u001b[0m\u001b[0mtraceback\u001b[0m\u001b[1;33m.\u001b[0m\u001b[0mlimit\u001b[0m \u001b[1;33m=\u001b[0m \u001b[0mlimit_orig\u001b[0m\u001b[1;33m\u001b[0m\u001b[0m\n",
      "\u001b[1;32m/data/vaishaal/anaconda3/lib/python3.5/site-packages/theano/gof/link.py\u001b[0m in \u001b[0;36mmake_thunk\u001b[1;34m(self, input_storage, output_storage, storage_map)\u001b[0m\n\u001b[0;32m    688\u001b[0m         return self.make_all(input_storage=input_storage,\n\u001b[0;32m    689\u001b[0m                              \u001b[0moutput_storage\u001b[0m\u001b[1;33m=\u001b[0m\u001b[0moutput_storage\u001b[0m\u001b[1;33m,\u001b[0m\u001b[1;33m\u001b[0m\u001b[0m\n\u001b[1;32m--> 690\u001b[1;33m                              storage_map=storage_map)[:3]\n\u001b[0m\u001b[0;32m    691\u001b[0m \u001b[1;33m\u001b[0m\u001b[0m\n\u001b[0;32m    692\u001b[0m     \u001b[1;32mdef\u001b[0m \u001b[0mmake_all\u001b[0m\u001b[1;33m(\u001b[0m\u001b[0mself\u001b[0m\u001b[1;33m,\u001b[0m \u001b[0minput_storage\u001b[0m\u001b[1;33m,\u001b[0m \u001b[0moutput_storage\u001b[0m\u001b[1;33m)\u001b[0m\u001b[1;33m:\u001b[0m\u001b[1;33m\u001b[0m\u001b[0m\n",
      "\u001b[1;32m/data/vaishaal/anaconda3/lib/python3.5/site-packages/theano/gof/vm.py\u001b[0m in \u001b[0;36mmake_all\u001b[1;34m(self, profiler, input_storage, output_storage, storage_map)\u001b[0m\n\u001b[0;32m   1001\u001b[0m                                                  \u001b[0mstorage_map\u001b[0m\u001b[1;33m,\u001b[0m\u001b[1;33m\u001b[0m\u001b[0m\n\u001b[0;32m   1002\u001b[0m                                                  \u001b[0mcompute_map\u001b[0m\u001b[1;33m,\u001b[0m\u001b[1;33m\u001b[0m\u001b[0m\n\u001b[1;32m-> 1003\u001b[1;33m                                                  no_recycling))\n\u001b[0m\u001b[0;32m   1004\u001b[0m                 \u001b[1;32mif\u001b[0m \u001b[1;32mnot\u001b[0m \u001b[0mhasattr\u001b[0m\u001b[1;33m(\u001b[0m\u001b[0mthunks\u001b[0m\u001b[1;33m[\u001b[0m\u001b[1;33m-\u001b[0m\u001b[1;36m1\u001b[0m\u001b[1;33m]\u001b[0m\u001b[1;33m,\u001b[0m \u001b[1;34m'lazy'\u001b[0m\u001b[1;33m)\u001b[0m\u001b[1;33m:\u001b[0m\u001b[1;33m\u001b[0m\u001b[0m\n\u001b[0;32m   1005\u001b[0m                     \u001b[1;31m# We don't want all ops maker to think about lazy Ops.\u001b[0m\u001b[1;33m\u001b[0m\u001b[1;33m\u001b[0m\u001b[0m\n",
      "\u001b[1;32m<ipython-input-109-6d3c8a341c87>\u001b[0m in \u001b[0;36mmake_thunk\u001b[1;34m(self, node, storage_map, _, _2)\u001b[0m\n\u001b[0;32m     10\u001b[0m \u001b[1;33m\u001b[0m\u001b[0m\n\u001b[0;32m     11\u001b[0m     \u001b[1;32mdef\u001b[0m \u001b[0mmake_thunk\u001b[0m\u001b[1;33m(\u001b[0m\u001b[0mself\u001b[0m\u001b[1;33m,\u001b[0m \u001b[0mnode\u001b[0m\u001b[1;33m,\u001b[0m \u001b[0mstorage_map\u001b[0m\u001b[1;33m,\u001b[0m \u001b[0m_\u001b[0m\u001b[1;33m,\u001b[0m \u001b[0m_2\u001b[0m\u001b[1;33m)\u001b[0m\u001b[1;33m:\u001b[0m\u001b[1;33m\u001b[0m\u001b[0m\n\u001b[1;32m---> 12\u001b[1;33m         mod = SourceModule(\"\"\"\n\u001b[0m\u001b[0;32m     13\u001b[0m     __global__ void cosine_f(float * i0, float * o0, int size) {\n\u001b[0;32m     14\u001b[0m     \u001b[0mint\u001b[0m \u001b[0mi\u001b[0m \u001b[1;33m=\u001b[0m \u001b[0mblockIdx\u001b[0m\u001b[1;33m.\u001b[0m\u001b[0mx\u001b[0m\u001b[1;33m*\u001b[0m\u001b[0mblockDim\u001b[0m\u001b[1;33m.\u001b[0m\u001b[0mx\u001b[0m \u001b[1;33m+\u001b[0m \u001b[0mthreadIdx\u001b[0m\u001b[1;33m.\u001b[0m\u001b[0mx\u001b[0m\u001b[1;33m;\u001b[0m\u001b[1;33m\u001b[0m\u001b[0m\n",
      "\u001b[1;31mNameError\u001b[0m: ('The following error happened while compiling the node', PyCUDACos(CudaNdarrayConstant{4.0}), '\\n', \"name 'SourceModule' is not defined\")"
     ]
    }
   ],
   "source": [
    "PyCUDACos()(4.0).eval()"
   ]
  },
  {
   "cell_type": "code",
   "execution_count": 113,
   "metadata": {
    "collapsed": false
   },
   "outputs": [
    {
     "data": {
      "text/plain": [
       "<module 'theano.sandbox.cuda' from '/data/vaishaal/anaconda3/lib/python3.5/site-packages/theano/sandbox/cuda/__init__.py'>"
      ]
     },
     "execution_count": 113,
     "metadata": {},
     "output_type": "execute_result"
    }
   ],
   "source": [
    "cuda"
   ]
  },
  {
   "cell_type": "code",
   "execution_count": null,
   "metadata": {
    "collapsed": true
   },
   "outputs": [],
   "source": []
  }
 ],
 "metadata": {
  "anaconda-cloud": {},
  "kernelspec": {
   "display_name": "Python [Root]",
   "language": "python",
   "name": "Python [Root]"
  },
  "language_info": {
   "codemirror_mode": {
    "name": "ipython",
    "version": 3
   },
   "file_extension": ".py",
   "mimetype": "text/x-python",
   "name": "python",
   "nbconvert_exporter": "python",
   "pygments_lexer": "ipython3",
   "version": "3.5.2"
  }
 },
 "nbformat": 4,
 "nbformat_minor": 0
}
