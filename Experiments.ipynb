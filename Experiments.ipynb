{
 "cells": [
  {
   "cell_type": "code",
   "execution_count": 1,
   "metadata": {
    "collapsed": false
   },
   "outputs": [
    {
     "name": "stderr",
     "output_type": "stream",
     "text": [
      "/data/vaishaal/anaconda2/lib/python2.7/site-packages/matplotlib/font_manager.py:273: UserWarning: Matplotlib is building the font cache using fc-list. This may take a moment.\n",
      "  warnings.warn('Matplotlib is building the font cache using fc-list. This may take a moment.')\n"
     ]
    },
    {
     "name": "stdout",
     "output_type": "stream",
     "text": [
      "Populating the interactive namespace from numpy and matplotlib\n"
     ]
    },
    {
     "name": "stderr",
     "output_type": "stream",
     "text": [
      "Using gpu device 0: Tesla K20c (CNMeM is enabled with initial size: 95.0% of memory, cuDNN 4007)\n"
     ]
    }
   ],
   "source": [
    "%pylab inline\n",
    "from opt import trainAndEvaluatePrimalModel\n",
    "import sklearn.metrics as metrics\n",
    "from kernels import *\n",
    "from utils import *\n",
    "\n",
    "\n",
    "from theano import function, config, shared, sandbox\n",
    "import theano.tensor as T\n",
    "from theano.tensor.nnet import conv2d\n",
    "from theano.tensor.signal.pool import pool_2d"
   ]
  },
  {
   "cell_type": "code",
   "execution_count": 2,
   "metadata": {
    "collapsed": true
   },
   "outputs": [],
   "source": [
    "DATAPATH = '/data/vaishaal/endive-exp/EGR1_withNegatives/'"
   ]
  },
  {
   "cell_type": "code",
   "execution_count": 3,
   "metadata": {
    "collapsed": false
   },
   "outputs": [],
   "source": [
    "XSeqTrain, labelsTrain = loadSeqFromText(DATAPATH + \"EGR1_GM12878_Egr-1_HudsonAlpha_AC.seq\", delim=' ')"
   ]
  },
  {
   "cell_type": "code",
   "execution_count": 5,
   "metadata": {
    "collapsed": false
   },
   "outputs": [],
   "source": [
    "XSeqTest, labelsTest = loadSeqFromText(DATAPATH + \"EGR1_GM12878_Egr-1_HudsonAlpha_B.seq\", delim='\\t')"
   ]
  },
  {
   "cell_type": "code",
   "execution_count": 6,
   "metadata": {
    "collapsed": false
   },
   "outputs": [],
   "source": [
    "XTrain = convertSeqToMatrix(XSeqTrain)\n",
    "XTest = convertSeqToMatrix(XSeqTest)"
   ]
  },
  {
   "cell_type": "code",
   "execution_count": 7,
   "metadata": {
    "collapsed": false
   },
   "outputs": [],
   "source": [
    "D = 1024\n",
    "W = np.random.randn(D,8*4) * 1.0\n",
    "b = np.random.uniform(0,1,size=D)"
   ]
  },
  {
   "cell_type": "code",
   "execution_count": 8,
   "metadata": {
    "collapsed": false
   },
   "outputs": [
    {
     "name": "stdout",
     "output_type": "stream",
     "text": [
      "0 Images Convolved\n",
      "1000 Images Convolved\n",
      "2000 Images Convolved\n",
      "3000 Images Convolved\n",
      "4000 Images Convolved\n",
      "5000 Images Convolved\n",
      "6000 Images Convolved\n",
      "7000 Images Convolved\n",
      "8000 Images Convolved\n",
      "9000 Images Convolved\n",
      "10000 Images Convolved\n",
      "11000 Images Convolved\n",
      "12000 Images Convolved\n",
      "13000 Images Convolved\n",
      "14000 Images Convolved\n",
      "15000 Images Convolved\n",
      "16000 Images Convolved\n",
      "17000 Images Convolved\n",
      "18000 Images Convolved\n",
      "19000 Images Convolved\n",
      "20000 Images Convolved\n",
      "21000 Images Convolved\n",
      "22000 Images Convolved\n",
      "23000 Images Convolved\n",
      "24000 Images Convolved\n",
      "25000 Images Convolved\n",
      "26000 Images Convolved\n",
      "27000 Images Convolved\n",
      "28000 Images Convolved\n",
      "29000 Images Convolved\n",
      "30000 Images Convolved\n",
      "31000 Images Convolved\n",
      "CPU times: user 59min 42s, sys: 1min 47s, total: 1h 1min 29s\n",
      "Wall time: 2min 37s\n",
      "0 Images Convolved\n",
      "CPU times: user 1min 59s, sys: 3.98 s, total: 2min 3s\n",
      "Wall time: 5.15 s\n"
     ]
    }
   ],
   "source": [
    "%time XLiftTrain_cpu = generateConvFeatures(XTrain, W, offset=b, gpu=False)\n",
    "%time XLiftTest_cpu = generateConvFeatures(XTest, W, offset=b, gpu=False)"
   ]
  },
  {
   "cell_type": "code",
   "execution_count": 9,
   "metadata": {
    "collapsed": false
   },
   "outputs": [
    {
     "name": "stdout",
     "output_type": "stream",
     "text": [
      "X SHAPE  (31662, 404)\n",
      "Computing XTX\n",
      "Done Computing XTX\n",
      "Train acc 0.6021097846\n",
      "Test acc 0.644644644645\n",
      "Train ROC  0.638565364954\n",
      "Test ROC  0.721314629259\n"
     ]
    },
    {
     "data": {
      "text/plain": [
       "<matplotlib.legend.Legend at 0x7f2d1e6d8f90>"
      ]
     },
     "execution_count": 9,
     "metadata": {},
     "output_type": "execute_result"
    },
    {
     "data": {
      "image/png": "[encoded data removed]",
      "text/plain": [
       "<matplotlib.figure.Figure at 0x7f2d75fe7c10>"
      ]
     },
     "metadata": {},
     "output_type": "display_data"
    }
   ],
   "source": [
    "train_roc, test_roc = trainAndEvaluatePrimalModel(XTrain, XTest, labelsTrain, labelsTest)\n",
    "train = plt.plot(train_roc[0], train_roc[1], label=\"train\")\n",
    "test = plt.plot(test_roc[0], test_roc[1], label=\"test\")\n",
    "print \"Train ROC \", metrics.auc(train_roc[0], train_roc[1])\n",
    "print \"Test ROC \", metrics.auc(test_roc[0], test_roc[1])\n",
    "plt.legend(handles=[train[0], test[0]])"
   ]
  },
  {
   "cell_type": "code",
   "execution_count": 10,
   "metadata": {
    "collapsed": false
   },
   "outputs": [
    {
     "name": "stdout",
     "output_type": "stream",
     "text": [
      "X SHAPE  (31662, 1024)\n",
      "Computing XTX\n",
      "Done Computing XTX\n",
      "Train acc 0.794390752321\n",
      "Test acc 0.837837837838\n",
      "Train ROC  0.876160952732\n",
      "Test ROC  0.917523046092\n"
     ]
    },
    {
     "data": {
      "text/plain": [
       "<matplotlib.legend.Legend at 0x7f2d29e41e90>"
      ]
     },
     "execution_count": 10,
     "metadata": {},
     "output_type": "execute_result"
    },
    {
     "data": {
      "image/png": "[encoded data removed]",
      "text/plain": [
       "<matplotlib.figure.Figure at 0x7f2d29f51d10>"
      ]
     },
     "metadata": {},
     "output_type": "display_data"
    }
   ],
   "source": [
    "train_roc, test_roc = trainAndEvaluatePrimalModel(XLiftTrain_cpu, XLiftTest_cpu,labelsTrain,labelsTest)\n",
    "train = plt.plot(train_roc[0], train_roc[1], label=\"train\")\n",
    "test = plt.plot(test_roc[0], test_roc[1], label=\"test\")\n",
    "print \"Train ROC \", metrics.auc(train_roc[0], train_roc[1])\n",
    "print \"Test ROC \", metrics.auc(test_roc[0], test_roc[1])\n",
    "plt.legend(handles=[train[0], test[0]])"
   ]
  },
  {
   "cell_type": "code",
   "execution_count": null,
   "metadata": {
    "collapsed": true
   },
   "outputs": [],
   "source": []
  }
 ],
 "metadata": {
  "kernelspec": {
   "display_name": "Python [Root]",
   "language": "python",
   "name": "Python [Root]"
  },
  "language_info": {
   "codemirror_mode": {
    "name": "ipython",
    "version": 2
   },
   "file_extension": ".py",
   "mimetype": "text/x-python",
   "name": "python",
   "nbconvert_exporter": "python",
   "pygments_lexer": "ipython2",
   "version": "2.7.12"
  }
 },
 "nbformat": 4,
 "nbformat_minor": 0
}
