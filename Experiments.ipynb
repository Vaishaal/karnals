{
 "cells": [
  {
   "cell_type": "code",
   "execution_count": 73,
   "metadata": {
    "collapsed": false
   },
   "outputs": [
    {
     "name": "stdout",
     "output_type": "stream",
     "text": [
      "Populating the interactive namespace from numpy and matplotlib\n"
     ]
    }
   ],
   "source": [
    "%pylab inline\n",
    "from opt import trainAndEvaluatePrimalModel\n",
    "import sklearn.metrics as metrics\n",
    "import kernels\n",
    "\n",
    "# uncomment in python3\n",
    "# from importlib import reload\n",
    "import theano.sandbox.cuda as cuda\n",
    "\n",
    "import kernels\n",
    "reload(kernels)\n",
    "from kernels import *\n",
    "from utils import *\n",
    "import theano\n",
    "\n",
    "\n",
    "from theano import function, config, shared, sandbox\n",
    "import theano.misc.pycuda_init\n",
    "import theano.tensor as T\n",
    "from theano import gpuarray\n",
    "from theano.tensor.nnet import conv2d\n",
    "from theano.tensor.signal.pool import pool_2d"
   ]
  },
  {
   "cell_type": "code",
   "execution_count": 74,
   "metadata": {
    "collapsed": true
   },
   "outputs": [],
   "source": [
    "DATAPATH = '/data/vaishaal/endive-exp/EGR1_withNegatives/'"
   ]
  },
  {
   "cell_type": "code",
   "execution_count": 75,
   "metadata": {
    "collapsed": false
   },
   "outputs": [],
   "source": [
    "XSeqTrain, labelsTrain = loadSeqFromText(DATAPATH + \"EGR1_GM12878_Egr-1_HudsonAlpha_AC.seq\", delim=' ')\n",
    "XSeqTest, labelsTest = loadSeqFromText(DATAPATH + \"EGR1_GM12878_Egr-1_HudsonAlpha_B.seq\", delim='\\t')"
   ]
  },
  {
   "cell_type": "code",
   "execution_count": null,
   "metadata": {
    "collapsed": false
   },
   "outputs": [],
   "source": []
  },
  {
   "cell_type": "code",
   "execution_count": 76,
   "metadata": {
    "collapsed": false
   },
   "outputs": [],
   "source": [
    "XTrain = convertSeqToMatrix(XSeqTrain)\n",
    "XTest = convertSeqToMatrix(XSeqTest)"
   ]
  },
  {
   "cell_type": "code",
   "execution_count": 77,
   "metadata": {
    "collapsed": false
   },
   "outputs": [],
   "source": [
    "D = 8192\n",
    "gamma = 100\n",
    "W = np.random.randn(D,8*4) * gamma\n",
    "b = np.zeros"
   ]
  },
  {
   "cell_type": "code",
   "execution_count": 70,
   "metadata": {
    "collapsed": false
   },
   "outputs": [
    {
     "name": "stdout",
     "output_type": "stream",
     "text": [
      "(0, 'Images Convolved')\n",
      "CPU times: user 10.8 s, sys: 360 ms, total: 11.2 s\n",
      "Wall time: 674 ms\n",
      "(0, 'Images Convolved')\n",
      "CPU times: user 9.82 s, sys: 320 ms, total: 10.1 s\n",
      "Wall time: 422 ms\n"
     ]
    }
   ],
   "source": [
    "%time XLiftTrain_cpu = generateConvFeatures(XTrain[:10], W, offset=b, gpu=False)\n",
    "%time XLiftTest_cpu = generateConvFeatures(XTest[:10], W, offset=b, gpu=False)"
   ]
  },
  {
   "cell_type": "code",
   "execution_count": 71,
   "metadata": {
    "collapsed": true
   },
   "outputs": [],
   "source": [
    "conv_kernel_approx = XLiftTrain_cpu.T.dot(XLiftTrain_cpu)"
   ]
  },
  {
   "cell_type": "code",
   "execution_count": 72,
   "metadata": {
    "collapsed": false
   },
   "outputs": [
    {
     "data": {
      "text/plain": [
       "array([[ 0.07108632, -0.01068532, -0.01330626, ...,  0.00466472,\n",
       "         0.02181059,  0.03752138],\n",
       "       [-0.01068532,  0.11583213,  0.04334515, ...,  0.02590342,\n",
       "         0.01710021, -0.0055558 ],\n",
       "       [-0.01330626,  0.04334515,  0.21665961, ...,  0.01186051,\n",
       "         0.04383238, -0.0054791 ],\n",
       "       ..., \n",
       "       [ 0.00466472,  0.02590342,  0.01186051, ...,  0.15610135,\n",
       "         0.03357243, -0.0873561 ],\n",
       "       [ 0.02181059,  0.01710021,  0.04383238, ...,  0.03357243,\n",
       "         0.07334742,  0.02663375],\n",
       "       [ 0.03752138, -0.0055558 , -0.0054791 , ..., -0.0873561 ,\n",
       "         0.02663375,  0.13843524]])"
      ]
     },
     "execution_count": 72,
     "metadata": {},
     "output_type": "execute_result"
    }
   ],
   "source": [
    "conv_kernel_approx"
   ]
  },
  {
   "cell_type": "code",
   "execution_count": 78,
   "metadata": {
    "collapsed": false
   },
   "outputs": [
    {
     "name": "stdout",
     "output_type": "stream",
     "text": [
      "0\n",
      "('Feature Batch ', 0)\n",
      "('Data Batch ', 0)\n",
      "('Feature Batch ', 1)\n",
      "('Data Batch ', 0)\n",
      "('Feature Batch ', 2)\n",
      "('Data Batch ', 0)\n",
      "('Feature Batch ', 3)\n",
      "('Data Batch ', 0)\n",
      "CPU times: user 6.49 s, sys: 1.76 s, total: 8.25 s\n",
      "Wall time: 8.3 s\n",
      "0\n",
      "('Feature Batch ', 0)\n",
      "('Data Batch ', 0)\n",
      "('Data Batch ', 1)\n",
      "('Data Batch ', 2)\n",
      "('Data Batch ', 3)\n",
      "('Data Batch ', 4)\n",
      "('Data Batch ', 5)\n",
      "('Data Batch ', 6)\n",
      "('Data Batch ', 7)\n",
      "('Data Batch ', 8)\n",
      "('Data Batch ', 9)\n",
      "('Data Batch ', 10)\n",
      "('Data Batch ', 11)\n",
      "('Data Batch ', 12)\n",
      "('Data Batch ', 13)\n",
      "('Data Batch ', 14)\n",
      "('Data Batch ', 15)\n",
      "('Data Batch ', 16)\n",
      "('Data Batch ', 17)\n",
      "('Data Batch ', 18)\n",
      "('Data Batch ', 19)\n",
      "('Data Batch ', 20)\n",
      "('Data Batch ', 21)\n",
      "('Data Batch ', 22)\n",
      "('Data Batch ', 23)\n",
      "('Data Batch ', 24)\n",
      "('Data Batch ', 25)\n",
      "('Data Batch ', 26)\n",
      "('Data Batch ', 27)\n",
      "('Data Batch ', 28)\n",
      "('Data Batch ', 29)\n",
      "('Data Batch ', 30)\n",
      "('Feature Batch ', 1)\n",
      "('Data Batch ', 0)\n",
      "('Data Batch ', 1)\n",
      "('Data Batch ', 2)\n",
      "('Data Batch ', 3)\n",
      "('Data Batch ', 4)\n",
      "('Data Batch ', 5)\n",
      "('Data Batch ', 6)\n",
      "('Data Batch ', 7)\n",
      "('Data Batch ', 8)\n",
      "('Data Batch ', 9)\n",
      "('Data Batch ', 10)\n",
      "('Data Batch ', 11)\n",
      "('Data Batch ', 12)\n",
      "('Data Batch ', 13)\n",
      "('Data Batch ', 14)\n",
      "('Data Batch ', 15)\n",
      "('Data Batch ', 16)\n",
      "('Data Batch ', 17)\n",
      "('Data Batch ', 18)\n",
      "('Data Batch ', 19)\n",
      "('Data Batch ', 20)\n",
      "('Data Batch ', 21)\n",
      "('Data Batch ', 22)\n",
      "('Data Batch ', 23)\n",
      "('Data Batch ', 24)\n",
      "('Data Batch ', 25)\n",
      "('Data Batch ', 26)\n",
      "('Data Batch ', 27)\n",
      "('Data Batch ', 28)\n",
      "('Data Batch ', 29)\n",
      "('Data Batch ', 30)\n",
      "('Feature Batch ', 2)\n",
      "('Data Batch ', 0)\n",
      "('Data Batch ', 1)\n",
      "('Data Batch ', 2)\n",
      "('Data Batch ', 3)\n",
      "('Data Batch ', 4)\n",
      "('Data Batch ', 5)\n",
      "('Data Batch ', 6)\n",
      "('Data Batch ', 7)\n",
      "('Data Batch ', 8)\n",
      "('Data Batch ', 9)\n",
      "('Data Batch ', 10)\n",
      "('Data Batch ', 11)\n",
      "('Data Batch ', 12)\n",
      "('Data Batch ', 13)\n",
      "('Data Batch ', 14)\n",
      "('Data Batch ', 15)\n",
      "('Data Batch ', 16)\n",
      "('Data Batch ', 17)\n",
      "('Data Batch ', 18)\n",
      "('Data Batch ', 19)\n",
      "('Data Batch ', 20)\n",
      "('Data Batch ', 21)\n",
      "('Data Batch ', 22)\n",
      "('Data Batch ', 23)\n",
      "('Data Batch ', 24)\n",
      "('Data Batch ', 25)\n",
      "('Data Batch ', 26)\n",
      "('Data Batch ', 27)\n",
      "('Data Batch ', 28)\n",
      "('Data Batch ', 29)\n",
      "('Data Batch ', 30)\n",
      "('Feature Batch ', 3)\n",
      "('Data Batch ', 0)\n",
      "('Data Batch ', 1)\n",
      "('Data Batch ', 2)\n",
      "('Data Batch ', 3)\n",
      "('Data Batch ', 4)\n",
      "('Data Batch ', 5)\n",
      "('Data Batch ', 6)\n",
      "('Data Batch ', 7)\n",
      "('Data Batch ', 8)\n",
      "('Data Batch ', 9)\n",
      "('Data Batch ', 10)\n",
      "('Data Batch ', 11)\n",
      "('Data Batch ', 12)\n",
      "('Data Batch ', 13)\n",
      "('Data Batch ', 14)\n",
      "('Data Batch ', 15)\n",
      "('Data Batch ', 16)\n",
      "('Data Batch ', 17)\n",
      "('Data Batch ', 18)\n",
      "('Data Batch ', 19)\n",
      "('Data Batch ', 20)\n",
      "('Data Batch ', 21)\n",
      "('Data Batch ', 22)\n",
      "('Data Batch ', 23)\n",
      "('Data Batch ', 24)\n",
      "('Data Batch ', 25)\n",
      "('Data Batch ', 26)\n",
      "('Data Batch ', 27)\n",
      "('Data Batch ', 28)\n",
      "('Data Batch ', 29)\n",
      "('Data Batch ', 30)\n",
      "CPU times: user 3min 20s, sys: 52 s, total: 4min 12s\n",
      "Wall time: 4min 14s\n"
     ]
    }
   ],
   "source": [
    "%time XLiftTest_gpu = generateConvFeatures(XTest, W, batch_size=1024, feature_batch_size=2048, gpu=True)\n",
    "%time XLiftTrain_gpu = generateConvFeatures(XTrain, W, batch_size=1024, feature_batch_size=2048, gpu=True)\n"
   ]
  },
  {
   "cell_type": "code",
   "execution_count": 35,
   "metadata": {
    "collapsed": false
   },
   "outputs": [
    {
     "data": {
      "text/plain": [
       "(16486, 2048)"
      ]
     },
     "execution_count": 35,
     "metadata": {},
     "output_type": "execute_result"
    }
   ],
   "source": [
    "XLiftTrain_gpu.shape"
   ]
  },
  {
   "cell_type": "code",
   "execution_count": 36,
   "metadata": {
    "collapsed": false
   },
   "outputs": [
    {
     "data": {
      "text/plain": [
       "array([[  0.21526679,   2.06523132,  19.83791542, ...,   5.89636612,\n",
       "          5.78100681,  -4.88853502],\n",
       "       [  1.37520897,  -0.8077206 ,  26.86598778, ...,   4.85433102,\n",
       "         -1.20517111,  -0.82566029],\n",
       "       [  0.2073974 ,  -6.727005  ,  20.34199905, ...,  -6.16841125,\n",
       "         -3.74547648,   4.23827219],\n",
       "       ..., \n",
       "       [ -4.06682014,  -4.96436262,  22.12273788, ...,  -7.91680765,\n",
       "          4.89002466,  -5.83514929],\n",
       "       [ -3.22388315,  -1.36402559,  16.41782188, ...,   0.25410309,\n",
       "          3.26530957,  14.46560478],\n",
       "       [  7.18901777,  -8.23131847,  17.80782318, ...,  -7.04175186,\n",
       "          6.65466595, -11.4241457 ]])"
      ]
     },
     "execution_count": 36,
     "metadata": {},
     "output_type": "execute_result"
    }
   ],
   "source": [
    "XLiftTest_gpu"
   ]
  },
  {
   "cell_type": "code",
   "execution_count": 42,
   "metadata": {
    "collapsed": false
   },
   "outputs": [
    {
     "name": "stdout",
     "output_type": "stream",
     "text": [
      "('X SHAPE ', (16486, 404))\n",
      "Computing XTX\n",
      "Done Computing XTX\n",
      "('Train acc', 0.5670872255246876)\n",
      "('Test acc', 0.61161161161161159)\n",
      "('Train ROC ', 0.59796881686502679)\n",
      "('Test ROC ', 0.65546292585170329)\n"
     ]
    },
    {
     "data": {
      "text/plain": [
       "<matplotlib.legend.Legend at 0x7f14ef21c110>"
      ]
     },
     "execution_count": 42,
     "metadata": {},
     "output_type": "execute_result"
    },
    {
     "data": {
      "image/png": "[encoded data removed]",
      "text/plain": [
       "<matplotlib.figure.Figure at 0x7f14ca62f110>"
      ]
     },
     "metadata": {},
     "output_type": "display_data"
    }
   ],
   "source": [
    "train_roc, test_roc = trainAndEvaluatePrimalModel(XTrain, XTest, labelsTrain, labelsTest)\n",
    "train = plt.plot(train_roc[0], train_roc[1], label=\"train\")\n",
    "test = plt.plot(test_roc[0], test_roc[1], label=\"test\")\n",
    "print(\"Train ROC \", metrics.auc(train_roc[0], train_roc[1]))\n",
    "print(\"Test ROC \", metrics.auc(test_roc[0], test_roc[1]))\n",
    "plt.legend(handles=[train[0], test[0]])"
   ]
  },
  {
   "cell_type": "code",
   "execution_count": 107,
   "metadata": {
    "collapsed": false
   },
   "outputs": [
    {
     "name": "stdout",
     "output_type": "stream",
     "text": [
      "X SHAPE  (16486, 1)\n",
      "Computing XTX\n",
      "Done Computing XTX\n",
      "Train acc 0.499878684945\n",
      "Test acc 0.503503503504\n",
      "Train ROC  0.524051692076\n",
      "Test ROC  0.555350701403\n"
     ]
    },
    {
     "data": {
      "text/plain": [
       "<matplotlib.legend.Legend at 0x7f574e586eb8>"
      ]
     },
     "execution_count": 107,
     "metadata": {},
     "output_type": "execute_result"
    },
    {
     "data": {
      "image/png": "[encoded data removed]",
      "text/plain": [
       "<matplotlib.figure.Figure at 0x7f5752e42080>"
      ]
     },
     "metadata": {},
     "output_type": "display_data"
    }
   ],
   "source": [
    "train_roc, test_roc = trainAndEvaluatePrimalModel(XLiftTrain_cpu, XLiftTest_cpu,labelsTrain,labelsTest)\n",
    "train = plt.plot(train_roc[0], train_roc[1], label=\"train\")\n",
    "test = plt.plot(test_roc[0], test_roc[1], label=\"test\")\n",
    "print (\"Train ROC \", metrics.auc(train_roc[0], train_roc[1]))\n",
    "print (\"Test ROC \", metrics.auc(test_roc[0], test_roc[1]))\n",
    "plt.legend(handles=[train[0], test[0]])"
   ]
  },
  {
   "cell_type": "code",
   "execution_count": 52,
   "metadata": {
    "collapsed": false
   },
   "outputs": [
    {
     "name": "stdout",
     "output_type": "stream",
     "text": [
      "('X SHAPE ', (16486, 8192))\n",
      "Computing XTX\n",
      "Done Computing XTX\n",
      "('Train acc', 0.94461967730195318)\n",
      "('Test acc', 0.76676676676676681)\n",
      "('Train ROC ', 0.98660677669754282)\n",
      "('Test ROC ', 0.84589979959919837)\n"
     ]
    },
    {
     "data": {
      "text/plain": [
       "<matplotlib.legend.Legend at 0x7f14ef0cc950>"
      ]
     },
     "execution_count": 52,
     "metadata": {},
     "output_type": "execute_result"
    },
    {
     "data": {
      "image/png": "[encoded data removed]",
      "text/plain": [
       "<matplotlib.figure.Figure at 0x7f14c92488d0>"
      ]
     },
     "metadata": {},
     "output_type": "display_data"
    }
   ],
   "source": [
    "train_roc, test_roc = trainAndEvaluatePrimalModel(XLiftTrain_gpu, XLiftTest_gpu,labelsTrain,labelsTest, reg=0)\n",
    "train = plt.plot(train_roc[0], train_roc[1], label=\"train\")\n",
    "test = plt.plot(test_roc[0], test_roc[1], label=\"test\")\n",
    "print (\"Train ROC \", metrics.auc(train_roc[0], train_roc[1]))\n",
    "print (\"Test ROC \", metrics.auc(test_roc[0], test_roc[1]))\n",
    "plt.legend(handles=[train[0], test[0]])"
   ]
  },
  {
   "cell_type": "code",
   "execution_count": 38,
   "metadata": {
    "collapsed": false
   },
   "outputs": [
    {
     "name": "stdout",
     "output_type": "stream",
     "text": [
      "('X SHAPE ', (16486, 1024))\n",
      "Computing XTX\n",
      "Done Computing XTX\n",
      "('Train acc', 0.78709207812689552)\n",
      "('Test acc', 0.78678678678678682)\n",
      "('Train ROC ', 0.87070864549246285)\n",
      "('Test ROC ', 0.8784168336673347)\n"
     ]
    },
    {
     "data": {
      "text/plain": [
       "<matplotlib.legend.Legend at 0x7f14ddb2c690>"
      ]
     },
     "execution_count": 38,
     "metadata": {},
     "output_type": "execute_result"
    },
    {
     "data": {
      "image/png": "[encoded data removed]",
      "text/plain": [
       "<matplotlib.figure.Figure at 0x7f14dda882d0>"
      ]
     },
     "metadata": {},
     "output_type": "display_data"
    }
   ],
   "source": [
    "train_roc, test_roc = trainAndEvaluatePrimalModel(XLiftTrain_cpu, XLiftTest_cpu,labelsTrain,labelsTest, reg=0)\n",
    "train = plt.plot(train_roc[0], train_roc[1], label=\"train\")\n",
    "test = plt.plot(test_roc[0], test_roc[1], label=\"test\")\n",
    "print (\"Train ROC \", metrics.auc(train_roc[0], train_roc[1]))\n",
    "print (\"Test ROC \", metrics.auc(test_roc[0], test_roc[1]))\n",
    "plt.legend(handles=[train[0], test[0]])"
   ]
  },
  {
   "cell_type": "code",
   "execution_count": 113,
   "metadata": {
    "collapsed": false
   },
   "outputs": [
    {
     "data": {
      "text/plain": [
       "<module 'theano.sandbox.cuda' from '/data/vaishaal/anaconda3/lib/python3.5/site-packages/theano/sandbox/cuda/__init__.py'>"
      ]
     },
     "execution_count": 113,
     "metadata": {},
     "output_type": "execute_result"
    }
   ],
   "source": [
    "cuda"
   ]
  },
  {
   "cell_type": "code",
   "execution_count": 21,
   "metadata": {
    "collapsed": false
   },
   "outputs": [
    {
     "data": {
      "text/plain": [
       "array([[ 0.,  0.,  0., ...,  0.,  0.,  0.],\n",
       "       [ 0.,  0.,  0., ...,  0.,  0.,  0.],\n",
       "       [ 0.,  0.,  0., ...,  0.,  0.,  0.],\n",
       "       ..., \n",
       "       [ 0.,  0.,  0., ...,  0.,  0.,  0.],\n",
       "       [ 0.,  0.,  0., ...,  0.,  0.,  0.],\n",
       "       [ 0.,  0.,  0., ...,  0.,  0.,  0.]])"
      ]
     },
     "execution_count": 21,
     "metadata": {},
     "output_type": "execute_result"
    }
   ],
   "source": [
    "XLiftTest_gpu"
   ]
  },
  {
   "cell_type": "code",
   "execution_count": null,
   "metadata": {
    "collapsed": true
   },
   "outputs": [],
   "source": []
  }
 ],
 "metadata": {
  "anaconda-cloud": {},
  "kernelspec": {
   "display_name": "Python [Root]",
   "language": "python",
   "name": "Python [Root]"
  },
  "language_info": {
   "codemirror_mode": {
    "name": "ipython",
    "version": 2
   },
   "file_extension": ".py",
   "mimetype": "text/x-python",
   "name": "python",
   "nbconvert_exporter": "python",
   "pygments_lexer": "ipython2",
   "version": "2.7.12"
  }
 },
 "nbformat": 4,
 "nbformat_minor": 0
}
