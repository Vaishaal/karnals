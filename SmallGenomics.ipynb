{
 "cells": [
  {
   "cell_type": "code",
   "execution_count": 31,
   "metadata": {
    "collapsed": false
   },
   "outputs": [
    {
     "name": "stdout",
     "output_type": "stream",
     "text": [
      "Populating the interactive namespace from numpy and matplotlib\n"
     ]
    }
   ],
   "source": [
    "%pylab inline\n",
    "from opt import trainAndEvaluatePrimalModel\n",
    "import sklearn.metrics as metrics\n",
    "import kernels\n",
    "\n",
    "# uncomment in python3\n",
    "# from importlib import reload\n",
    "import theano.sandbox.cuda as cuda\n",
    "\n",
    "import kernels\n",
    "reload(kernels)\n",
    "from kernels import *\n",
    "import utils\n",
    "reload(utils)\n",
    "from utils import *\n",
    "import theano\n",
    "\n",
    "\n",
    "from theano import function, config, shared, sandbox\n",
    "import theano.misc.pycuda_init\n",
    "import theano.tensor as T\n",
    "from theano import gpuarray\n",
    "from theano.tensor.nnet import conv2d\n",
    "from theano.tensor.signal.pool import pool_2d"
   ]
  },
  {
   "cell_type": "code",
   "execution_count": 74,
   "metadata": {
    "collapsed": true
   },
   "outputs": [],
   "source": [
    "DATAPATH = '/data/vaishaal/endive-exp/EGR1_withNegatives/'"
   ]
  },
  {
   "cell_type": "code",
   "execution_count": 75,
   "metadata": {
    "collapsed": false
   },
   "outputs": [],
   "source": [
    "XSeqTrain, labelsTrain = loadSeqFromText(DATAPATH + \"EGR1_GM12878_Egr-1_HudsonAlpha_AC.seq\", delim=' ')\n",
    "XSeqTest, labelsTest = loadSeqFromText(DATAPATH + \"EGR1_GM12878_Egr-1_HudsonAlpha_B.seq\", delim='\\t')"
   ]
  },
  {
   "cell_type": "code",
   "execution_count": 58,
   "metadata": {
    "collapsed": false
   },
   "outputs": [],
   "source": [
    "AllSeqsTrain = open(\"genomics_small/allTrainSeqsSampled\").readlines()\n",
    "AllSeqsVal = open(\"genomics_small/allValSeqs\").readlines()"
   ]
  },
  {
   "cell_type": "code",
   "execution_count": 62,
   "metadata": {
    "collapsed": false
   },
   "outputs": [],
   "source": [
    "XSeqsTrain = map(lambda x: x.split(\",\")[0].replace(\"(\", \"\"), AllSeqsTrain)\n",
    "XSeqsVal = map(lambda x: x.split(\",\")[0].replace(\"(\", \"\"), AllSeqsVal)"
   ]
  },
  {
   "cell_type": "code",
   "execution_count": 63,
   "metadata": {
    "collapsed": false
   },
   "outputs": [],
   "source": [
    "labelsTrain = map(lambda x: float(x.split(\",\")[1].replace(\"DenseVector(\", \"\").replace(\")\", \"\").strip()), AllSeqsTrain)\n",
    "labelsTest = map(lambda x: float(x.split(\",\")[1].replace(\"DenseVector(\", \"\").replace(\")\", \"\").strip()), AllSeqsVal)"
   ]
  },
  {
   "cell_type": "code",
   "execution_count": 61,
   "metadata": {
    "collapsed": false
   },
   "outputs": [
    {
     "data": {
      "text/plain": [
       "8000"
      ]
     },
     "execution_count": 61,
     "metadata": {},
     "output_type": "execute_result"
    }
   ],
   "source": [
    "len(XSeqsVal)"
   ]
  },
  {
   "cell_type": "code",
   "execution_count": 64,
   "metadata": {
    "collapsed": false
   },
   "outputs": [],
   "source": [
    "XTrain = convertSeqToMatrix(XSeqsTrain)\n",
    "XTest = convertSeqToMatrix(XSeqsVal)"
   ]
  },
  {
   "cell_type": "code",
   "execution_count": 82,
   "metadata": {
    "collapsed": false
   },
   "outputs": [],
   "source": [
    "D = 4096\n",
    "gamma = 1.0\n",
    "W = np.random.randn(D,8*4) * gamma\n",
    "b = np.zeros"
   ]
  },
  {
   "cell_type": "code",
   "execution_count": null,
   "metadata": {
    "collapsed": false
   },
   "outputs": [
    {
     "name": "stdout",
     "output_type": "stream",
     "text": [
      "0\n",
      "('Feature Batch ', 0)\n",
      "('Data Batch ', 0)\n",
      "('Data Batch ', 1)\n",
      "('Data Batch ', 2)\n",
      "('Data Batch ', 3)\n",
      "('Data Batch ', 4)\n",
      "('Data Batch ', 5)\n",
      "('Data Batch ', 6)\n"
     ]
    }
   ],
   "source": [
    "%time XLiftTest_gpu = generateConvFeatures(XTest, W, batch_size=1024, feature_batch_size=1024, gpu=True)\n",
    "%time XLiftTrain_gpu = generateConvFeatures(XTrain, W, batch_size=1024, feature_batch_size=1024, gpu=True)\n"
   ]
  },
  {
   "cell_type": "code",
   "execution_count": 85,
   "metadata": {
    "collapsed": false
   },
   "outputs": [
    {
     "data": {
      "text/plain": [
       "(63277, 8192)"
      ]
     },
     "execution_count": 85,
     "metadata": {},
     "output_type": "execute_result"
    }
   ],
   "source": [
    "XLiftTrain_gpu.shape"
   ]
  },
  {
   "cell_type": "code",
   "execution_count": 67,
   "metadata": {
    "collapsed": false
   },
   "outputs": [
    {
     "data": {
      "text/plain": [
       "(8000, 2048)"
      ]
     },
     "execution_count": 67,
     "metadata": {},
     "output_type": "execute_result"
    }
   ],
   "source": [
    "XLiftTest_gpu.shape"
   ]
  },
  {
   "cell_type": "code",
   "execution_count": 42,
   "metadata": {
    "collapsed": false
   },
   "outputs": [
    {
     "name": "stdout",
     "output_type": "stream",
     "text": [
      "('X SHAPE ', (63277, 1200))\n",
      "Computing XTX\n",
      "Done Computing XTX\n"
     ]
    },
    {
     "name": "stderr",
     "output_type": "stream",
     "text": [
      "/data/vaishaal/anaconda2/lib/python2.7/site-packages/numpy/lib/twodim_base.py:233: VisibleDeprecationWarning: using a non-integer number instead of an integer will result in an error in the future\n",
      "  m = zeros((N, M), dtype=dtype)\n",
      "/data/vaishaal/anaconda2/lib/python2.7/site-packages/numpy/lib/twodim_base.py:240: VisibleDeprecationWarning: using a non-integer number instead of an integer will result in an error in the future\n",
      "  m[:M-k].flat[i::M+1] = 1\n",
      "opt.py:30: VisibleDeprecationWarning: non integer (and non boolean) array-likes will not be accepted as indices in the future\n",
      "  y = np.eye(max(labels) + 1)[labels]\n"
     ]
    },
    {
     "name": "stdout",
     "output_type": "stream",
     "text": [
      "('Train acc', 0.64192360573352092)\n",
      "('Test acc', 0.918875)\n",
      "('Train ROC ', 0.63715505122200033)\n",
      "('Test ROC ', 0.52222784810126577)\n"
     ]
    },
    {
     "data": {
      "text/plain": [
       "<matplotlib.legend.Legend at 0x7fe2932984d0>"
      ]
     },
     "execution_count": 42,
     "metadata": {},
     "output_type": "execute_result"
    },
    {
     "data": {
      "image/png": "[encoded data removed]",
      "text/plain": [
       "<matplotlib.figure.Figure at 0x7fe2980893d0>"
      ]
     },
     "metadata": {},
     "output_type": "display_data"
    }
   ],
   "source": [
    "train_roc, test_roc = trainAndEvaluatePrimalModel(XTrain, XTest, labelsTrain, labelsTest)\n",
    "train = plt.plot(train_roc[0], train_roc[1], label=\"train\")\n",
    "test = plt.plot(test_roc[0], test_roc[1], label=\"test\")\n",
    "print(\"Train ROC \", metrics.auc(train_roc[0], train_roc[1]))\n",
    "print(\"Test ROC \", metrics.auc(test_roc[0], test_roc[1]))\n",
    "plt.legend(handles=[train[0], test[0]])"
   ]
  },
  {
   "cell_type": "code",
   "execution_count": 107,
   "metadata": {
    "collapsed": false
   },
   "outputs": [
    {
     "name": "stdout",
     "output_type": "stream",
     "text": [
      "X SHAPE  (16486, 1)\n",
      "Computing XTX\n",
      "Done Computing XTX\n",
      "Train acc 0.499878684945\n",
      "Test acc 0.503503503504\n",
      "Train ROC  0.524051692076\n",
      "Test ROC  0.555350701403\n"
     ]
    },
    {
     "data": {
      "text/plain": [
       "<matplotlib.legend.Legend at 0x7f574e586eb8>"
      ]
     },
     "execution_count": 107,
     "metadata": {},
     "output_type": "execute_result"
    },
    {
     "data": {
      "image/png": "[encoded data removed]",
      "text/plain": [
       "<matplotlib.figure.Figure at 0x7f5752e42080>"
      ]
     },
     "metadata": {},
     "output_type": "display_data"
    }
   ],
   "source": [
    "train_roc, test_roc = trainAndEvaluatePrimalModel(XLiftTrain_cpu, XLiftTest_cpu,labelsTrain,labelsTest)\n",
    "train = plt.plot(train_roc[0], train_roc[1], label=\"train\")\n",
    "test = plt.plot(test_roc[0], test_roc[1], label=\"test\")\n",
    "print (\"Train ROC \", metrics.auc(train_roc[0], train_roc[1]))\n",
    "print (\"Test ROC \", metrics.auc(test_roc[0], test_roc[1]))\n",
    "plt.legend(handles=[train[0], test[0]])"
   ]
  },
  {
   "cell_type": "code",
   "execution_count": 98,
   "metadata": {
    "collapsed": false
   },
   "outputs": [
    {
     "name": "stdout",
     "output_type": "stream",
     "text": [
      "('X SHAPE ', (63277, 8192))\n",
      "Computing XTX\n",
      "Done Computing XTX\n",
      "('Train acc', 0.74045861845536298)\n",
      "('Test acc', 0.91225000000000001)\n",
      "('Train ROC ', 0.79965405493996156)\n",
      "('Test ROC ', 0.77665696202531653)\n"
     ]
    },
    {
     "data": {
      "text/plain": [
       "<matplotlib.legend.Legend at 0x7fe298f3d910>"
      ]
     },
     "execution_count": 98,
     "metadata": {},
     "output_type": "execute_result"
    },
    {
     "data": {
      "image/png": "[encoded data removed]",
      "text/plain": [
       "<matplotlib.figure.Figure at 0x7fe28f5f2410>"
      ]
     },
     "metadata": {},
     "output_type": "display_data"
    }
   ],
   "source": [
    "train_roc, test_roc = trainAndEvaluatePrimalModel(XLiftTrain_gpu[:,:8192], XLiftTest_gpu[:,:8192],labelsTrain,labelsTest, reg=5e7)\n",
    "train = plt.plot(train_roc[0], train_roc[1], label=\"train\")\n",
    "test = plt.plot(test_roc[0], test_roc[1], label=\"test\")\n",
    "print (\"Train ROC \", metrics.auc(train_roc[0], train_roc[1]))\n",
    "print (\"Test ROC \", metrics.auc(test_roc[0], test_roc[1]))\n",
    "plt.legend(handles=[train[0], test[0]])"
   ]
  },
  {
   "cell_type": "code",
   "execution_count": 38,
   "metadata": {
    "collapsed": false
   },
   "outputs": [
    {
     "name": "stdout",
     "output_type": "stream",
     "text": [
      "('X SHAPE ', (16486, 1024))\n",
      "Computing XTX\n",
      "Done Computing XTX\n",
      "('Train acc', 0.78709207812689552)\n",
      "('Test acc', 0.78678678678678682)\n",
      "('Train ROC ', 0.87070864549246285)\n",
      "('Test ROC ', 0.8784168336673347)\n"
     ]
    },
    {
     "data": {
      "text/plain": [
       "<matplotlib.legend.Legend at 0x7f14ddb2c690>"
      ]
     },
     "execution_count": 38,
     "metadata": {},
     "output_type": "execute_result"
    },
    {
     "data": {
      "image/png": "[encoded data removed]",
      "text/plain": [
       "<matplotlib.figure.Figure at 0x7f14dda882d0>"
      ]
     },
     "metadata": {},
     "output_type": "display_data"
    }
   ],
   "source": [
    "train_roc, test_roc = trainAndEvaluatePrimalModel(XLiftTrain_cpu, XLiftTest_cpu,labelsTrain,labelsTest, reg=0)\n",
    "train = plt.plot(train_roc[0], train_roc[1], label=\"train\")\n",
    "test = plt.plot(test_roc[0], test_roc[1], label=\"test\")\n",
    "print (\"Train ROC \", metrics.auc(train_roc[0], train_roc[1]))\n",
    "print (\"Test ROC \", metrics.auc(test_roc[0], test_roc[1]))\n",
    "plt.legend(handles=[train[0], test[0]])"
   ]
  },
  {
   "cell_type": "code",
   "execution_count": 113,
   "metadata": {
    "collapsed": false
   },
   "outputs": [
    {
     "data": {
      "text/plain": [
       "<module 'theano.sandbox.cuda' from '/data/vaishaal/anaconda3/lib/python3.5/site-packages/theano/sandbox/cuda/__init__.py'>"
      ]
     },
     "execution_count": 113,
     "metadata": {},
     "output_type": "execute_result"
    }
   ],
   "source": [
    "cuda"
   ]
  },
  {
   "cell_type": "code",
   "execution_count": 21,
   "metadata": {
    "collapsed": false
   },
   "outputs": [
    {
     "data": {
      "text/plain": [
       "array([[ 0.,  0.,  0., ...,  0.,  0.,  0.],\n",
       "       [ 0.,  0.,  0., ...,  0.,  0.,  0.],\n",
       "       [ 0.,  0.,  0., ...,  0.,  0.,  0.],\n",
       "       ..., \n",
       "       [ 0.,  0.,  0., ...,  0.,  0.,  0.],\n",
       "       [ 0.,  0.,  0., ...,  0.,  0.,  0.],\n",
       "       [ 0.,  0.,  0., ...,  0.,  0.,  0.]])"
      ]
     },
     "execution_count": 21,
     "metadata": {},
     "output_type": "execute_result"
    }
   ],
   "source": [
    "XLiftTest_gpu"
   ]
  },
  {
   "cell_type": "code",
   "execution_count": null,
   "metadata": {
    "collapsed": true
   },
   "outputs": [],
   "source": []
  }
 ],
 "metadata": {
  "anaconda-cloud": {},
  "kernelspec": {
   "display_name": "Python [Root]",
   "language": "python",
   "name": "Python [Root]"
  },
  "language_info": {
   "codemirror_mode": {
    "name": "ipython",
    "version": 2
   },
   "file_extension": ".py",
   "mimetype": "text/x-python",
   "name": "python",
   "nbconvert_exporter": "python",
   "pygments_lexer": "ipython2",
   "version": "2.7.12"
  }
 },
 "nbformat": 4,
 "nbformat_minor": 0
}
