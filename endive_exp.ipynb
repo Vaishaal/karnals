{
 "cells": [
  {
   "cell_type": "code",
   "execution_count": 9,
   "metadata": {
    "collapsed": false
   },
   "outputs": [
    {
     "name": "stdout",
     "output_type": "stream",
     "text": [
      "Populating the interactive namespace from numpy and matplotlib\n"
     ]
    }
   ],
   "source": [
    "%pylab inline\n",
    "import scipy.linalg\n",
    "import sklearn.metrics as metrics\n",
    "from sklearn.cross_validation import train_test_split\n",
    "from numba import jit\n",
    "import csv\n",
    "import editdistance\n",
    "import math\n",
    "\n",
    "from theano import function, config, shared, sandbox\n",
    "import theano.tensor as T\n",
    "from theano.tensor.nnet import conv2d\n",
    "from theano.tensor.signal.pool import pool_2d"
   ]
  },
  {
   "cell_type": "code",
   "execution_count": 2,
   "metadata": {
    "collapsed": true
   },
   "outputs": [],
   "source": [
    "DATAPATH = '/data/vaishaal/endive-exp/EGR1_withNegatives/'"
   ]
  },
  {
   "cell_type": "code",
   "execution_count": 16,
   "metadata": {
    "collapsed": false
   },
   "outputs": [],
   "source": [
    "ATCG_MAP = {'A': 0, 'T': 1, 'C': 2, 'G': 3}\n",
    "ATCG_REV_MAP = ['A', 'T', 'C', 'G']\n",
    "ATCG = np.eye(4)\n",
    "\n",
    "def convertSeqToMatrix(XSeq):\n",
    "    X = np.zeros((len(XSeq), 4*len(XSeq[0])))\n",
    "    for i,seq in enumerate(XSeq):\n",
    "        x = np.zeros(4*100)\n",
    "        X[i] = np.concatenate(map(lambda x: ATCG[ATCG_MAP[x]], seq))\n",
    "    return X\n",
    "        \n",
    "        \n",
    "def loadSeqFromText(seqFile, delim='\\t'):\n",
    "    XSeq = [] \n",
    "    labels = []\n",
    "    with open(seqFile) as csvfile:\n",
    "        reader = csv.DictReader(csvfile, delimiter=delim)\n",
    "        for row in reader:\n",
    "            seq = row['seq']\n",
    "            label = row['Bound']\n",
    "            XSeq.append(seq)\n",
    "            labels.append(label)\n",
    "    return XSeq[1:], np.array(labels[1:]).astype('uint8')\n",
    "\n",
    "            \n",
    "def loadFoldFromText(foldId):\n",
    "    npzFile = foldId + \".npz\"\n",
    "    XTrainFile = foldId + \"_Train.csv\"\n",
    "    XTestFile = foldId + \"_Test.csv\"\n",
    "    yTrainFile = foldId + \"_TrainLabels.csv\"\n",
    "    yTestFile = foldId + \"_TestLabels.csv\"\n",
    "    return loadFromText(XTrainFile, XTestFile, yTrainFile, yTestFile)\n",
    "\n",
    "\n",
    "def loadFromText(XTrainFile, XTestFile, yTrainFile, yTestFile):\n",
    "    with open(XTrainFile) as XFile:\n",
    "        print(\"Loading XTrain... from \" + XTrainFile)\n",
    "        XTrainRaw = np.loadtxt(XFile, dtype=\"uint8\", delimiter=\",\")\n",
    "    \n",
    "    with open(XTestFile) as XFile:\n",
    "        print(\"Loading XTest... from \" + XTestFile)\n",
    "        XTestRaw = np.loadtxt(XFile, dtype=\"uint8\", delimiter=\",\")\n",
    "     \n",
    "    with open(yTrainFile) as yFile:\n",
    "        print(\"Loading yTrain... from \" + yTrainFile)\n",
    "        yTrainRaw = np.loadtxt(yFile, dtype=\"uint8\", delimiter=\",\")\n",
    "    with open(yTestFile) as yFile:\n",
    "        print(\"Loading yTest.. from \" + yTestFile)\n",
    "        yTestRaw = np.loadtxt(yFile, dtype=\"uint8\", delimiter=\",\")\n",
    "    return (XTrainRaw, XTestRaw, yTrainRaw, yTestRaw)\n",
    "        \n",
    "def loadFromNpz(npzFile):\n",
    "    npz = np.load(npzFile)\n",
    "    XTrainRaw = npz[\"XTrain\"]\n",
    "    XTestRaw = npz[\"XTest\"]\n",
    "    yTrainRaw = npz[\"yTrain\"]\n",
    "    yTestRaw = npz[\"yTest\"]\n",
    "    return XTrainRaw, XTestRaw, yTrainRaw, yTestRaw\n",
    "\n",
    "    \n",
    "def saveToNpz(fname, XTrain, XTest, yTrain, yTest):\n",
    "    f = open(fname, \"w+\")\n",
    "    numpy.savez(f, XTrain=XTrain, XTest=XTest, yTrain=yTrain, yTest=yTest)\n",
    "    f.close()\n",
    "    return 0\n",
    "        \n",
    "def evaluateDualModel(kMatrix, model, TOT_FEAT=1):\n",
    "    kMatrix *= TOT_FEAT\n",
    "    y = kMatrix.dot(model)\n",
    "    kMatrix /= TOT_FEAT\n",
    "    return y[:, 1] \n",
    "            \n",
    "    \n",
    "def learnPrimal(trainData, labels, W=None, reg=0.1):\n",
    "    '''Learn a model from trainData -> labels '''\n",
    "\n",
    "    trainData = trainData.reshape(trainData.shape[0],-1)\n",
    "    n = trainData.shape[0]\n",
    "    X = np.ascontiguousarray(trainData, dtype=np.float32).reshape(trainData.shape[0], -1)\n",
    "    if (W == None):\n",
    "        W = np.ones(n)[:, np.newaxis]\n",
    "\n",
    "    print \"X SHAPE \", trainData.shape\n",
    "    print \"Computing XTX\"\n",
    "    sqrtW = np.sqrt(W)\n",
    "    X *= sqrtW\n",
    "    XTWX = X.T.dot(X)\n",
    "    print \"Done Computing XTX\"\n",
    "    idxes = np.diag_indices(XTWX.shape[0])\n",
    "    XTWX[idxes] += reg\n",
    "    y = np.eye(max(labels) + 1)[labels]\n",
    "    XTWy = X.T.dot(W * y)\n",
    "    model = scipy.linalg.solve(XTWX, XTWy)\n",
    "    return model\n",
    "\n",
    "def trainAndEvaluateDualModel(KTrain, KTest, labelsTrain, labelsTest, reg=0.1):\n",
    "    model = learnDual(KTrain,labelsTrain, reg=reg)\n",
    "    predTrainWeights = evaluateDualModel(KTrain, model)\n",
    "    predTestWeights = evaluateDualModel(KTest, model)\n",
    "    train_roc = metrics.roc_curve(labelsTrain, predTrainWeights)\n",
    "    test_roc = metrics.roc_curve(labelsTest, predTestWeights)\n",
    "    return (train_roc, test_roc)\n",
    "\n",
    "def learnDual(gramMatrix, labels, reg=0.1, TOT_FEAT=1, NUM_TRAIN=1):\n",
    "    ''' Learn a model from K matrix -> labels '''\n",
    "    print (\"Learning Dual Model\")\n",
    "    y = np.eye(max(labels) + 1)[labels]\n",
    "    idxes = np.diag_indices(gramMatrix.shape[0])\n",
    "    gramMatrix /= float(TOT_FEAT)\n",
    "    print \"reg is \" + str(reg)\n",
    "    gramMatrix[idxes] += (reg)\n",
    "    model = scipy.linalg.solve(gramMatrix, y)\n",
    "    gramMatrix[idxes] -= (reg)                                                                   \n",
    "    gramMatrix *= TOT_FEAT\n",
    "    return model\n",
    "\n",
    "def computeDistanceMatrix(XTest, XTrain):\n",
    "    XTrain = XTrain.reshape(XTrain.shape[0], -1)\n",
    "    XTest = XTest.reshape(XTest.shape[0], -1)\n",
    "    XTrain_norms = (np.linalg.norm(XTrain, axis=1) ** 2)[:, np.newaxis]\n",
    "    XTest_norms = (np.linalg.norm(XTest, axis=1) ** 2)[:, np.newaxis]\n",
    "    K = XTest.dot(XTrain.T)\n",
    "    K *= -2\n",
    "    K += XTrain_norms.T\n",
    "    K += XTest_norms  \n",
    "    return K\n",
    "\n",
    "\n",
    "\n",
    "def computeRBFGramMatrix(XTest, XTrain, gamma=1):\n",
    "    gamma = -1.0 * gamma\n",
    "    print \"Gamma is \"+  str(gamma)\n",
    "    return np.exp(gamma*computeDistanceMatrix(XTest, XTrain))\n",
    "\n",
    "def trainAndEvaluatePrimalModel(XTrain, XTest, labelsTrain, labelsTest, reg=0.0, W=None):\n",
    "    model = learnPrimal(XTrain, labelsTrain, reg=reg, W=W)\n",
    "    yTrainHat = XTrain.dot(model)[:,1]\n",
    "    yTestHat = XTest.dot(model)[:,1]\n",
    "    \n",
    "    yTrainPred = np.argmax(XTrain.dot(model), axis=1)\n",
    "    yTestPred = np.argmax(XTest.dot(model), axis=1)\n",
    "    \n",
    "    print \"Train acc\", metrics.accuracy_score(yTrainPred, labelsTrain)\n",
    "    print \"Test acc\", metrics.accuracy_score(yTestPred, labelsTest)\n",
    "    train_roc = metrics.roc_curve(labelsTrain, yTrainHat)\n",
    "    test_roc = metrics.roc_curve(labelsTest, yTestHat)\n",
    "    return (train_roc, test_roc)\n",
    "\n",
    "@jit(nopython=True)\n",
    "def generateNgrams(x, n, alpha_size=4):\n",
    "    outsize = int(x.shape[0]/alpha_size - n + 1)\n",
    "    ngrams = np.zeros((outsize, n*alpha_size))\n",
    "    for i in range(outsize):\n",
    "        ngrams[i] = x[i*alpha_size:(i+n)*alpha_size]\n",
    "    return ngrams\n",
    "\n",
    "@jit(nopython=True)\n",
    "def fast_cos(X):\n",
    "    flat_x = X.ravel()\n",
    "    for i in range(len(flat_x)):\n",
    "        flat_x[i] = math.cos(flat_x[i])\n",
    "    return X\n",
    "    \n",
    "\n",
    "def generateConvFeatures(X, W, offset=None,  gpu=False, alpha_size=4):\n",
    "    n = W.shape[-1]/4 \n",
    "    if (gpu):\n",
    "        conv_out = convTheano(X,W)\n",
    "    else:\n",
    "        conv_out = convCPU(X,W)\n",
    "\n",
    "    # Pool \n",
    "    pool_out = np.sum(conv_out, axis=1)\n",
    "\n",
    "    return pool_out.reshape(pool_out.shape[0], pool_out.shape[-1])\n",
    "\n",
    "    \n",
    "    \n",
    "\n",
    "def convCPU(X, W, offset, alpha_size=4):\n",
    "    conv_out_shape = (X.shape[-1] - W.shape[-1])/4 + 1 \n",
    "    X_lift = np.zeros((X.shape[0], conv_out_shape, W.shape[0]))\n",
    "    scale = np.sqrt(2/float(W.shape[0])) \n",
    "    for i in range(X.shape[0]):\n",
    "        if (i % 1000 == 0):\n",
    "            print i, \"Images Convolved\"\n",
    "        ngrams = generateNgrams(X[i,:], W.shape[-1]/4, alpha_size)\n",
    "        xlift_conv = np.cos(np.dot(ngrams, W.T) + offset)\n",
    "        X_lift[i] = xlift_conv\n",
    "    return X_lift\n",
    "\n",
    "def convTheano(X, W, batch_size=4096, offset=0, alpha_size=4):\n",
    "    X = X.reshape(X.shape[0], 1, 1, X.shape[1])\n",
    "    W = W.reshape(W.shape[0], 1, 1, W.shape[1])\n",
    "    d = W.shape[-1]\n",
    "    D = W.shape[0]\n",
    "    offsetTheano = shared(offset)\n",
    "    conv_out_shape = (X.shape[-1] - W.shape[-1])/alpha_size + 1 \n",
    "    print conv_out_shape\n",
    "    print W.shape[0]\n",
    "    print W.ravel()[0]\n",
    "    XOut = np.zeros((X.shape[0], conv_out_shape, W.shape[0]))\n",
    "    num_batches = int(np.ceil(X.shape[0]/batch_size))\n",
    "    WTheano = shared(W)\n",
    "    for b in range(num_batches):\n",
    "        print \"Data Batch \", b\n",
    "        end = min((b+1)*batch_size, X.shape[0])\n",
    "        start = b*batch_size\n",
    "        size = end - start\n",
    "        XBatch = X[start:end]\n",
    "        XBatchTheano = shared(XBatch)\n",
    "        conv_out = conv2d(XBatchTheano, WTheano, subsample=(1, 4), filter_flip=False).eval().reshape(size, D, conv_out_shape)\n",
    "        XOut[start:end, :, :] = conv_out.transpose(0,2,1)\n",
    "    return XOut\n",
    "\n",
    "\n",
    "def computeConvNorm(x,n,alpha_size=4):\n",
    "    ngrams = generateNgrams(x, n)\n",
    "    for k in range(ngrams.shape[0]):\n",
    "        ngram1 = ngrams[int(k),:]\n",
    "        for l in range(ngrams.shape[0]):\n",
    "            ngram2 = ngrams[int(l), :]\n",
    "            k += np.dot(ngram1, ngram2)/(np.linalg.norm(ngram1)*np.linalg.norm(ngram2))\n",
    "    return np.sqrt(k)\n",
    "\n",
    "\n",
    "def generateAllNgrams(X, n,alpha_size=4):\n",
    "    outsize = X.shape[1]/alpha_size - n + 1\n",
    "    ngramMat = np.zeros((X.shape[0], outsize, n*alpha_size))\n",
    "    for i in range(X.shape[0]):\n",
    "        ngramMat[i] = generateNgrams(X[i,:], n)\n",
    "    return ngramMat\n",
    "    \n",
    "def alphaVectorToString(alphavector, alpha_size=4):\n",
    "    return ATCG_REV_MAP[np.argmax(alphavector)]\n",
    "    \n",
    "def vectorToString(vector, alpha_size=4):\n",
    "    out = ''\n",
    "    for i in range(vector.shape[0]/alpha_size):\n",
    "        out += alphaVectorToString(vector[i*alpha_size:(i+1)*alpha_size])\n",
    "    return out\n",
    "        \n",
    "def computeConvKernelValue(x,y,n,alpha_size=4):\n",
    "    normX = computeConvNorm(x,n)\n",
    "    normY = computeConvNorm(y,n)\n",
    "    print 'normX', normX\n",
    "    print 'normY', normY\n",
    "    ngramsX = generateNgrams(x, n)\n",
    "    ngramsY = generateNgrams(y, n)\n",
    "    for k in range(ngramsX.shape[0]):\n",
    "        ngram1 = ngramsX[int(k),:]\n",
    "        for l in range(ngramsY.shape[0]):\n",
    "            ngram2 = ngramsY[int(l), :]\n",
    "            k += np.dot(ngram1, ngram2)/(np.linalg.norm(ngram1)*np.linalg.norm(ngram2))\n",
    "    return k/(float(normX)*float(normY))\n",
    "    \n",
    "    \n",
    "@jit(nopython=True)\n",
    "def computeConvKernel(XTrain,XTest,n,alpha_size=4,gamma=0.01):\n",
    "    K = np.zeros((XTest.shape[0], XTrain.shape[0]))\n",
    "    outsize = XTrain.shape[1]/alpha_size - n + 1 \n",
    "    for i in range(XTrain.shape[0]):\n",
    "        for j in range(XTest.shape[0]):\n",
    "            train = generateNgrams(XTrain[int(i),:], n)\n",
    "            test = generateNgrams(XTest[int(j),:], n)\n",
    "            for k in range(train.shape[0]):\n",
    "                ngram1 = train[int(k),:]\n",
    "                for l in range(test.shape[0]):\n",
    "                    ngram2 = test[int(l),:]\n",
    "                    diff = (ngram1 - ngram2)\n",
    "                    K[j,i] += np.exp(-gamma*np.sum(diff * diff))\n",
    "    return K\n",
    "                  \n",
    "@jit(nopython=True)\n",
    "def computeNgramKernel(XTrain,XTest,n,alpha_size=4,gamma=0.01):\n",
    "    K = np.zeros((XTest.shape[0], XTrain.shape[0]))\n",
    "    outsize = XTrain.shape[1]/alpha_size - n + 1 \n",
    "    for i in range(XTrain.shape[0]):\n",
    "        for j in range(XTest.shape[0]):\n",
    "            train = generateNgrams(XTrain[int(i),:], n)\n",
    "            test = generateNgrams(XTest[int(j),:], n)\n",
    "            for k in range(train.shape[0]):\n",
    "                ngram1 = train[int(k),:]\n",
    "                for l in range(test.shape[0]):\n",
    "                    ngram2 = test[int(l),:]\n",
    "                    K[j,i] += int(np.all(ngram1 == ngram2))\n",
    "            \n",
    "    return K\n",
    "                \n",
    "                    \n",
    "           \n",
    "            \n",
    "        \n",
    "    "
   ]
  },
  {
   "cell_type": "code",
   "execution_count": 11,
   "metadata": {
    "collapsed": false
   },
   "outputs": [],
   "source": [
    "XSeqTrain, labelsTrain = loadSeqFromText(DATAPATH + \"EGR1_GM12878_Egr-1_HudsonAlpha_AC.seq\", delim=' ')"
   ]
  },
  {
   "cell_type": "code",
   "execution_count": 12,
   "metadata": {
    "collapsed": false
   },
   "outputs": [],
   "source": [
    "XSeqTest, labelsTest = loadSeqFromText(DATAPATH + \"EGR1_GM12878_Egr-1_HudsonAlpha_B.seq\", delim='\\t')"
   ]
  },
  {
   "cell_type": "code",
   "execution_count": 13,
   "metadata": {
    "collapsed": false
   },
   "outputs": [],
   "source": [
    "XTrain = convertSeqToMatrix(XSeqTrain)\n",
    "XTest = convertSeqToMatrix(XSeqTest)"
   ]
  },
  {
   "cell_type": "code",
   "execution_count": 7,
   "metadata": {
    "collapsed": false
   },
   "outputs": [],
   "source": [
    "D =4096\n",
    "W = np.random.randn(D,8*4) * 1\n",
    "b = np.random.uniform(0,1,size=D)\n"
   ]
  },
  {
   "cell_type": "code",
   "execution_count": null,
   "metadata": {
    "collapsed": false
   },
   "outputs": [
    {
     "name": "stdout",
     "output_type": "stream",
     "text": [
      "0 Images Convolved\n",
      "1000 Images Convolved\n",
      "2000 Images Convolved\n",
      "3000 Images Convolved\n",
      "4000 Images Convolved\n",
      "5000 Images Convolved\n",
      "6000 Images Convolved\n",
      "7000 Images Convolved\n",
      "8000 Images Convolved\n",
      "9000 Images Convolved\n",
      "10000 Images Convolved\n",
      "11000 Images Convolved\n",
      "12000 Images Convolved\n",
      "13000 Images Convolved\n",
      "14000 Images Convolved\n",
      "15000 Images Convolved\n",
      "16000 Images Convolved\n",
      "17000 Images Convolved\n",
      "18000 Images Convolved\n",
      "19000 Images Convolved\n",
      "20000 Images Convolved\n",
      "21000 Images Convolved\n",
      "22000 Images Convolved\n",
      "23000 Images Convolved\n",
      "24000 Images Convolved\n",
      "25000 Images Convolved\n",
      "26000 Images Convolved\n",
      "27000 Images Convolved\n",
      "28000 Images Convolved\n",
      "29000 Images Convolved\n",
      "30000 Images Convolved\n",
      "31000 Images Convolved\n",
      "Doing Element wise cosine\n"
     ]
    }
   ],
   "source": [
    "%time XLiftTrain_cpu = generateConvFeatures(XTrain, W, offset=b, gpu=False)\n",
    "%time XLiftTest_cpu = generateConvFeatures(XTest, W, offset=b, gpu=False)"
   ]
  },
  {
   "cell_type": "code",
   "execution_count": 11,
   "metadata": {
    "collapsed": false
   },
   "outputs": [
    {
     "name": "stdout",
     "output_type": "stream",
     "text": [
      "X SHAPE  (31662, 404)\n",
      "Computing XTX\n",
      "Done Computing XTX\n",
      "Train acc 0.6021097846\n",
      "Test acc 0.644644644645\n",
      "Train ROC  0.638565364954\n",
      "Test ROC  0.721314629259\n"
     ]
    },
    {
     "data": {
      "text/plain": [
       "<matplotlib.legend.Legend at 0x7f2b847b5810>"
      ]
     },
     "execution_count": 11,
     "metadata": {},
     "output_type": "execute_result"
    },
    {
     "data": {
      "image/png": "[encoded data removed]",
      "text/plain": [
       "<matplotlib.figure.Figure at 0x7f2c044acc90>"
      ]
     },
     "metadata": {},
     "output_type": "display_data"
    }
   ],
   "source": [
    "train_roc, test_roc = trainAndEvaluatePrimalModel(XTrain, XTest, labelsTrain, labelsTest)\n",
    "train = plt.plot(train_roc[0], train_roc[1], label=\"train\")\n",
    "test = plt.plot(test_roc[0], test_roc[1], label=\"test\")\n",
    "print \"Train ROC \", metrics.auc(train_roc[0], train_roc[1])\n",
    "print \"Test ROC \", metrics.auc(test_roc[0], test_roc[1])\n",
    "plt.legend(handles=[train[0], test[0]])"
   ]
  },
  {
   "cell_type": "code",
   "execution_count": 16,
   "metadata": {
    "collapsed": false
   },
   "outputs": [
    {
     "name": "stdout",
     "output_type": "stream",
     "text": [
      "X SHAPE  (31662, 1024)\n",
      "Computing XTX\n",
      "Done Computing XTX\n",
      "Train acc 0.774524666793\n",
      "Test acc 0.499499499499\n",
      "Train ROC  0.866984550801\n",
      "Test ROC  0.5\n"
     ]
    },
    {
     "data": {
      "text/plain": [
       "<matplotlib.legend.Legend at 0x7f7e1b3fce90>"
      ]
     },
     "execution_count": 16,
     "metadata": {},
     "output_type": "execute_result"
    },
    {
     "data": {
      "image/png": "[encoded data removed]",
      "text/plain": [
       "<matplotlib.figure.Figure at 0x7f7e1c10e850>"
      ]
     },
     "metadata": {},
     "output_type": "display_data"
    }
   ],
   "source": [
    "train_roc, test_roc = trainAndEvaluatePrimalModel(XLiftTrain_cpu, XLiftTest_cpu,labelsTrain,labelsTest)\n",
    "train = plt.plot(train_roc[0], train_roc[1], label=\"train\")\n",
    "test = plt.plot(test_roc[0], test_roc[1], label=\"test\")\n",
    "print \"Train ROC \", metrics.auc(train_roc[0], train_roc[1])\n",
    "print \"Test ROC \", metrics.auc(test_roc[0], test_roc[1])\n",
    "plt.legend(handles=[train[0], test[0]])"
   ]
  },
  {
   "cell_type": "code",
   "execution_count": 58,
   "metadata": {
    "collapsed": false
   },
   "outputs": [
    {
     "name": "stdout",
     "output_type": "stream",
     "text": [
      "X SHAPE  (31662, 1024)\n",
      "Computing XTX\n",
      "Done Computing XTX\n",
      "Train acc 0.519265997094\n",
      "Test acc 0.545545545546\n",
      "Train ROC  0.529912695391\n",
      "Test ROC  0.560785571142\n"
     ]
    },
    {
     "data": {
      "text/plain": [
       "<matplotlib.legend.Legend at 0x7fdffe7673d0>"
      ]
     },
     "execution_count": 58,
     "metadata": {},
     "output_type": "execute_result"
    },
    {
     "data": {
      "image/png": "[encoded data removed]",
      "text/plain": [
       "<matplotlib.figure.Figure at 0x7fdffe973cd0>"
      ]
     },
     "metadata": {},
     "output_type": "display_data"
    }
   ],
   "source": [
    "train_roc, test_roc = trainAndEvaluatePrimalModel(XTrainLift, XTestLift,labelsTrain,labelsTest)\n",
    "train = plt.plot(train_roc[0], train_roc[1], label=\"train\")\n",
    "test = plt.plot(test_roc[0], test_roc[1], label=\"test\")\n",
    "print \"Train ROC \", metrics.auc(train_roc[0], train_roc[1])\n",
    "print \"Test ROC \", metrics.auc(test_roc[0], test_roc[1])\n",
    "plt.legend(handles=[train[0], test[0]])"
   ]
  },
  {
   "cell_type": "code",
   "execution_count": null,
   "metadata": {
    "collapsed": false
   },
   "outputs": [],
   "source": [
    "KGram = computeRBFGramMatrix(XTrain[:10,:], XTrain[:10, :], 100)\n",
    "print KGram"
   ]
  },
  {
   "cell_type": "code",
   "execution_count": 181,
   "metadata": {
    "collapsed": false
   },
   "outputs": [
    {
     "name": "stdout",
     "output_type": "stream",
     "text": [
      "[[ 1.  0.  0. -0. -0.  0.  0. -0.  0.  0.]\n",
      " [ 0.  1.  0.  0.  0. -0.  0.  0.  0.  0.]\n",
      " [ 0.  0.  1.  0.  0.  0. -0.  0. -0. -0.]\n",
      " [-0.  0.  0.  1.  0.  0. -0. -0. -0. -0.]\n",
      " [-0.  0.  0.  0.  1.  0. -0.  0.  0. -0.]\n",
      " [ 0. -0.  0.  0.  0.  1. -0. -0.  0. -0.]\n",
      " [ 0.  0. -0. -0. -0. -0.  1. -0.  0. -0.]\n",
      " [-0.  0.  0. -0.  0. -0. -0.  1.  0.  0.]\n",
      " [ 0.  0. -0. -0.  0.  0.  0.  0.  1.  0.]\n",
      " [ 0.  0. -0. -0. -0. -0. -0.  0.  0.  1.]]\n"
     ]
    }
   ],
   "source": [
    "W = np.random.randn(8192*8,101*4) * 100\n",
    "b = np.random.uniform(32)\n",
    "Xlift = np.sqrt(2.0/(8192*8)) * np.cos(XTrain[:10].dot(W.T) + b)\n",
    "print np.round(Xlift.dot(Xlift.T))"
   ]
  },
  {
   "cell_type": "code",
   "execution_count": 199,
   "metadata": {
    "collapsed": false
   },
   "outputs": [
    {
     "name": "stdout",
     "output_type": "stream",
     "text": [
      "Learning Dual Model\n",
      "reg is 0.1\n",
      "Train ROC  1.0\n",
      "Test ROC  0.5\n"
     ]
    },
    {
     "data": {
      "text/plain": [
       "<matplotlib.legend.Legend at 0x7f609bf322d0>"
      ]
     },
     "execution_count": 199,
     "metadata": {},
     "output_type": "execute_result"
    },
    {
     "data": {
      "image/png": "[encoded data removed]",
      "text/plain": [
       "<matplotlib.figure.Figure at 0x7f60982f4ad0>"
      ]
     },
     "metadata": {},
     "output_type": "display_data"
    }
   ],
   "source": [
    "train_roc, test_roc = trainAndEvaluateDualModel(KTrain, KTest, yTrain, yTest)\n",
    "train = plt.plot(train_roc[0], train_roc[1], label=\"train\")\n",
    "test = plt.plot(test_roc[0], test_roc[1], label=\"test\")\n",
    "print \"Train ROC \", metrics.auc(train_roc[0], train_roc[1])\n",
    "print \"Test ROC \", metrics.auc(test_roc[0], test_roc[1])\n",
    "plt.legend(handles=[train[0], test[0]])"
   ]
  },
  {
   "cell_type": "code",
   "execution_count": 184,
   "metadata": {
    "collapsed": false
   },
   "outputs": [
    {
     "data": {
      "text/plain": [
       "(999,)"
      ]
     },
     "execution_count": 184,
     "metadata": {},
     "output_type": "execute_result"
    }
   ],
   "source": [
    "yTest.shape"
   ]
  },
  {
   "cell_type": "code",
   "execution_count": null,
   "metadata": {
    "collapsed": true
   },
   "outputs": [],
   "source": []
  }
 ],
 "metadata": {
  "kernelspec": {
   "display_name": "Python [Root]",
   "language": "python",
   "name": "Python [Root]"
  },
  "language_info": {
   "codemirror_mode": {
    "name": "ipython",
    "version": 2
   },
   "file_extension": ".py",
   "mimetype": "text/x-python",
   "name": "python",
   "nbconvert_exporter": "python",
   "pygments_lexer": "ipython2",
   "version": "2.7.12"
  }
 },
 "nbformat": 4,
 "nbformat_minor": 0
}
